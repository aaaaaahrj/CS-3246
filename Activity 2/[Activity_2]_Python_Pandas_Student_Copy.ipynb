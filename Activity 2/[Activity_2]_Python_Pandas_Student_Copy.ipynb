{
  "cells": [
    {
      "cell_type": "markdown",
      "metadata": {
        "id": "nrxbKKJZtPzj"
      },
      "source": [
        "# **Activity 2: Python-Pandas Exercise**\n",
        "\n",
        "Objectives:\n",
        "- Understand Python syntax (variables, loops, functions).\n",
        "- Learn Pandas basics (Series, DataFrames, reading files).\n",
        "- Perform data cleaning (handling missing values, correcting formats, removing duplicates).\n",
        "- Apply concepts in a real-world case study."
      ]
    },
    {
      "cell_type": "markdown",
      "metadata": {
        "id": "FNQbxlCPtvXZ"
      },
      "source": [
        "# Part 1: Hands-on Python & Pandas Basics"
      ]
    },
    {
      "cell_type": "markdown",
      "metadata": {
        "id": "vH2WqeaY38NC"
      },
      "source": [
        "1. Install the Pandas library in your environment."
      ]
    },
    {
      "cell_type": "code",
      "execution_count": 7,
      "metadata": {
        "id": "GPhWF_2u5Qxy"
      },
      "outputs": [
        {
          "name": "stdout",
          "output_type": "stream",
          "text": [
            "Requirement already satisfied: pandas in /Library/Frameworks/Python.framework/Versions/3.13/lib/python3.13/site-packages (2.2.3)\n",
            "Requirement already satisfied: numpy>=1.26.0 in /Library/Frameworks/Python.framework/Versions/3.13/lib/python3.13/site-packages (from pandas) (2.2.2)\n",
            "Requirement already satisfied: python-dateutil>=2.8.2 in /Library/Frameworks/Python.framework/Versions/3.13/lib/python3.13/site-packages (from pandas) (2.9.0.post0)\n",
            "Requirement already satisfied: pytz>=2020.1 in /Library/Frameworks/Python.framework/Versions/3.13/lib/python3.13/site-packages (from pandas) (2025.1)\n",
            "Requirement already satisfied: tzdata>=2022.7 in /Library/Frameworks/Python.framework/Versions/3.13/lib/python3.13/site-packages (from pandas) (2025.1)\n",
            "Requirement already satisfied: six>=1.5 in /Library/Frameworks/Python.framework/Versions/3.13/lib/python3.13/site-packages (from python-dateutil>=2.8.2->pandas) (1.17.0)\n",
            "Note: you may need to restart the kernel to use updated packages.\n"
          ]
        }
      ],
      "source": [
        "pip install pandas"
      ]
    },
    {
      "cell_type": "markdown",
      "metadata": {
        "id": "dZC17Lf1zT3Q"
      },
      "source": [
        "2. Import the  pandas package under the name `pd`"
      ]
    },
    {
      "cell_type": "code",
      "execution_count": 2,
      "metadata": {
        "id": "lR6fv9XE3Pw3"
      },
      "outputs": [],
      "source": [
        "import pandas as pd"
      ]
    },
    {
      "cell_type": "markdown",
      "metadata": {
        "id": "hO_MlGtx3Wj5"
      },
      "source": [
        "3. Print the pandas version"
      ]
    },
    {
      "cell_type": "code",
      "execution_count": 3,
      "metadata": {
        "id": "Y4lcL4Nb3SrJ"
      },
      "outputs": [
        {
          "name": "stdout",
          "output_type": "stream",
          "text": [
            "2.2.3\n"
          ]
        }
      ],
      "source": [
        "print(pd.__version__)"
      ]
    },
    {
      "cell_type": "markdown",
      "metadata": {
        "id": "QWJFiRZ03pwH"
      },
      "source": [
        "4. Create a variable `x` with the value 10 and a string variable `y` with \"Fortes in Fide!\""
      ]
    },
    {
      "cell_type": "code",
      "execution_count": 4,
      "metadata": {
        "id": "QCkALKg_3vig"
      },
      "outputs": [
        {
          "name": "stdout",
          "output_type": "stream",
          "text": [
            "Fortes in Fide!\n"
          ]
        }
      ],
      "source": [
        "x = 10\n",
        "y = \"Fortes in Fide!\"\n",
        "\n",
        "print(y)"
      ]
    },
    {
      "cell_type": "markdown",
      "metadata": {
        "id": "zBzRK3sY5Wfh"
      },
      "source": [
        "5. Define a list with numbers `[1, 2, 3, 4, 5]` and a dictionary with keys `name` and `age`"
      ]
    },
    {
      "cell_type": "code",
      "execution_count": 5,
      "metadata": {
        "id": "s8Zg7dgz5XPA"
      },
      "outputs": [
        {
          "name": "stdout",
          "output_type": "stream",
          "text": [
            "{'Pretty': 21, 'Arj': 20, 'Lebron': 41, 'Cassey': 23, 'Jared': 23}\n",
            "21\n"
          ]
        }
      ],
      "source": [
        "numbers = [1,2,3,4,5]\n",
        "\n",
        "persons = {\"Pretty\" : 21, \"Arj\" : 20, \"Lebron\" : 41,  \"Cassey\" : 23, \"Jared\" : 23}\n",
        "\n",
        "print(persons)\n",
        "print(persons[\"Pretty\"])"
      ]
    },
    {
      "cell_type": "markdown",
      "metadata": {
        "id": "gbsHcq7w5hE2"
      },
      "source": [
        "6. Write a function `greet(name)` that returns \"Magis, (name)\"!"
      ]
    },
    {
      "cell_type": "code",
      "execution_count": 6,
      "metadata": {
        "id": "LHKMev_a5mJX"
      },
      "outputs": [
        {
          "name": "stdout",
          "output_type": "stream",
          "text": [
            "Magis, Pretty!\n"
          ]
        }
      ],
      "source": [
        "name = \"Pretty\"\n",
        "def greet(name):\n",
        "    print(f\"Magis, {name}!\")\n",
        "\n",
        "greet(name)\n",
        "\n",
        "\n"
      ]
    },
    {
      "cell_type": "markdown",
      "metadata": {
        "id": "d_UBbRZKYBFF"
      },
      "source": [
        "7. Write a Python function that takes a user’s name as input and prints a personalized greeting."
      ]
    },
    {
      "cell_type": "code",
      "execution_count": 7,
      "metadata": {
        "id": "-8T6ocVeYCnD"
      },
      "outputs": [
        {
          "name": "stdout",
          "output_type": "stream",
          "text": [
            "Hello, Pretty!\n"
          ]
        }
      ],
      "source": [
        "username = input(\"Input name: \")\n",
        "\n",
        "def greeting(user):\n",
        "    print(f\"Hello, {user}!\")\n",
        "\n",
        "greeting(username)"
      ]
    },
    {
      "cell_type": "markdown",
      "metadata": {
        "id": "0GEjHQ-PYRj2"
      },
      "source": [
        "8. Modify **Number 7** that if the user does not enter a name, it defaults to \"Guest\"."
      ]
    },
    {
      "cell_type": "code",
      "execution_count": 8,
      "metadata": {
        "id": "rYfMyyQeYbf6"
      },
      "outputs": [
        {
          "name": "stdout",
          "output_type": "stream",
          "text": [
            "Hello, Arj\n"
          ]
        }
      ],
      "source": [
        "username = input(\"Input name: \")\n",
        "\n",
        "def greeting(user):\n",
        "        if not user:\n",
        "                print(\"Hello, Guest!\")\n",
        "        else:\n",
        "            print(f\"Hello, {user}\")\n",
        "    \n",
        "greeting(username)"
      ]
    },
    {
      "cell_type": "markdown",
      "metadata": {
        "id": "OG-Ubf3259sb"
      },
      "source": [
        "9. Create a Pandas Series from `[10, 20, 30, 40]`."
      ]
    },
    {
      "cell_type": "code",
      "execution_count": 9,
      "metadata": {
        "id": "oGThKfqQ5-sj"
      },
      "outputs": [
        {
          "name": "stdout",
          "output_type": "stream",
          "text": [
            "0    10\n",
            "1    20\n",
            "2    30\n",
            "3    40\n",
            "dtype: int64\n"
          ]
        }
      ],
      "source": [
        "import pandas as pd\n",
        "\n",
        "a = [10,20,30,40]\n",
        "\n",
        "series1 = pd.Series(a)\n",
        "print(series1)"
      ]
    },
    {
      "cell_type": "markdown",
      "metadata": {
        "id": "DeSr_ozS6Wc5"
      },
      "source": [
        "10.  Create a DataFrame with columns `A` and `B`."
      ]
    },
    {
      "cell_type": "code",
      "execution_count": 10,
      "metadata": {
        "id": "ytbYen7w6Mmv"
      },
      "outputs": [
        {
          "name": "stdout",
          "output_type": "stream",
          "text": [
            "   A   B\n",
            "0  1   6\n",
            "1  2   7\n",
            "2  3   8\n",
            "3  4   9\n",
            "4  5  10\n"
          ]
        }
      ],
      "source": [
        "data = {\n",
        "    \"A\" : [1,2,3,4,5],\n",
        "    \"B\" : [6,7,8,9,10]\n",
        "}\n",
        "\n",
        "df1 = pd.DataFrame(data)\n",
        "\n",
        "print(df1)"
      ]
    },
    {
      "cell_type": "markdown",
      "metadata": {
        "id": "7mAive8s7kfU"
      },
      "source": [
        "# Part 2: Working with a Dataset 🛥️"
      ]
    },
    {
      "cell_type": "markdown",
      "metadata": {
        "id": "u6daMs_F8SPx"
      },
      "source": [
        "1. Load the Titanic dataset from a local file and display the first five rows."
      ]
    },
    {
      "cell_type": "code",
      "execution_count": 11,
      "metadata": {
        "id": "zi-ufFmj9e4h"
      },
      "outputs": [
        {
          "name": "stdout",
          "output_type": "stream",
          "text": [
            "   PassengerId  Survived  Pclass  \\\n",
            "0          892         0       3   \n",
            "1          893         1       3   \n",
            "2          894         0       2   \n",
            "3          895         0       3   \n",
            "4          896         1       3   \n",
            "\n",
            "                                           Name     Sex   Age  SibSp  Parch  \\\n",
            "0                              Kelly, Mr. James    male  34.5      0      0   \n",
            "1              Wilkes, Mrs. James (Ellen Needs)  female  47.0      1      0   \n",
            "2                     Myles, Mr. Thomas Francis    male  62.0      0      0   \n",
            "3                              Wirz, Mr. Albert    male  27.0      0      0   \n",
            "4  Hirvonen, Mrs. Alexander (Helga E Lindqvist)  female  22.0      1      1   \n",
            "\n",
            "    Ticket     Fare Cabin Embarked  \n",
            "0   330911   7.8292   NaN        Q  \n",
            "1   363272   7.0000   NaN        S  \n",
            "2   240276   9.6875   NaN        Q  \n",
            "3   315154   8.6625   NaN        S  \n",
            "4  3101298  12.2875   NaN        S  \n"
          ]
        }
      ],
      "source": [
        "titanicData = pd.read_csv('titanic_dataset.csv')\n",
        "print(titanicData.head())"
      ]
    },
    {
      "cell_type": "markdown",
      "metadata": {
        "id": "405AKURC9sqB"
      },
      "source": [
        "2. Display the dataset's column names, data types."
      ]
    },
    {
      "cell_type": "code",
      "execution_count": 12,
      "metadata": {
        "id": "88-8AT8W9uaI"
      },
      "outputs": [
        {
          "name": "stdout",
          "output_type": "stream",
          "text": [
            "Index(['PassengerId', 'Survived', 'Pclass', 'Name', 'Sex', 'Age', 'SibSp',\n",
            "       'Parch', 'Ticket', 'Fare', 'Cabin', 'Embarked'],\n",
            "      dtype='object')\n"
          ]
        }
      ],
      "source": [
        "titanicColumns = titanicData.columns\n",
        "print(titanicColumns)"
      ]
    },
    {
      "cell_type": "markdown",
      "metadata": {
        "id": "Eh9FsKUx9-8S"
      },
      "source": [
        "3. Display the dataset's missing values."
      ]
    },
    {
      "cell_type": "code",
      "execution_count": 13,
      "metadata": {
        "id": "olw7wFVH9-rG"
      },
      "outputs": [
        {
          "name": "stdout",
          "output_type": "stream",
          "text": [
            "     PassengerId  Survived  Pclass   Name    Sex    Age  SibSp  Parch  Ticket  \\\n",
            "0          False     False   False  False  False  False  False  False   False   \n",
            "1          False     False   False  False  False  False  False  False   False   \n",
            "2          False     False   False  False  False  False  False  False   False   \n",
            "3          False     False   False  False  False  False  False  False   False   \n",
            "4          False     False   False  False  False  False  False  False   False   \n",
            "..           ...       ...     ...    ...    ...    ...    ...    ...     ...   \n",
            "413        False     False   False  False  False   True  False  False   False   \n",
            "414        False     False   False  False  False  False  False  False   False   \n",
            "415        False     False   False  False  False  False  False  False   False   \n",
            "416        False     False   False  False  False   True  False  False   False   \n",
            "417        False     False   False  False  False   True  False  False   False   \n",
            "\n",
            "      Fare  Cabin  Embarked  \n",
            "0    False   True     False  \n",
            "1    False   True     False  \n",
            "2    False   True     False  \n",
            "3    False   True     False  \n",
            "4    False   True     False  \n",
            "..     ...    ...       ...  \n",
            "413  False   True     False  \n",
            "414  False  False     False  \n",
            "415  False   True     False  \n",
            "416  False   True     False  \n",
            "417  False   True     False  \n",
            "\n",
            "[418 rows x 12 columns]\n"
          ]
        }
      ],
      "source": [
        "titanicNull =titanicData.isnull()\n",
        "print(titanicNull)"
      ]
    },
    {
      "cell_type": "markdown",
      "metadata": {
        "id": "lNAGBAXv-LXs"
      },
      "source": [
        "4. Display the `Name`, `Age`, and `Fare` columns from the dataset. (first 10)"
      ]
    },
    {
      "cell_type": "code",
      "execution_count": 14,
      "metadata": {
        "id": "LNRu6hI7-dUV"
      },
      "outputs": [
        {
          "data": {
            "text/html": [
              "<div>\n",
              "<style scoped>\n",
              "    .dataframe tbody tr th:only-of-type {\n",
              "        vertical-align: middle;\n",
              "    }\n",
              "\n",
              "    .dataframe tbody tr th {\n",
              "        vertical-align: top;\n",
              "    }\n",
              "\n",
              "    .dataframe thead th {\n",
              "        text-align: right;\n",
              "    }\n",
              "</style>\n",
              "<table border=\"1\" class=\"dataframe\">\n",
              "  <thead>\n",
              "    <tr style=\"text-align: right;\">\n",
              "      <th></th>\n",
              "      <th>Name</th>\n",
              "      <th>Age</th>\n",
              "      <th>Fare</th>\n",
              "    </tr>\n",
              "  </thead>\n",
              "  <tbody>\n",
              "    <tr>\n",
              "      <th>0</th>\n",
              "      <td>Kelly, Mr. James</td>\n",
              "      <td>34.5</td>\n",
              "      <td>7.8292</td>\n",
              "    </tr>\n",
              "    <tr>\n",
              "      <th>1</th>\n",
              "      <td>Wilkes, Mrs. James (Ellen Needs)</td>\n",
              "      <td>47.0</td>\n",
              "      <td>7.0000</td>\n",
              "    </tr>\n",
              "    <tr>\n",
              "      <th>2</th>\n",
              "      <td>Myles, Mr. Thomas Francis</td>\n",
              "      <td>62.0</td>\n",
              "      <td>9.6875</td>\n",
              "    </tr>\n",
              "    <tr>\n",
              "      <th>3</th>\n",
              "      <td>Wirz, Mr. Albert</td>\n",
              "      <td>27.0</td>\n",
              "      <td>8.6625</td>\n",
              "    </tr>\n",
              "    <tr>\n",
              "      <th>4</th>\n",
              "      <td>Hirvonen, Mrs. Alexander (Helga E Lindqvist)</td>\n",
              "      <td>22.0</td>\n",
              "      <td>12.2875</td>\n",
              "    </tr>\n",
              "    <tr>\n",
              "      <th>5</th>\n",
              "      <td>Svensson, Mr. Johan Cervin</td>\n",
              "      <td>14.0</td>\n",
              "      <td>9.2250</td>\n",
              "    </tr>\n",
              "    <tr>\n",
              "      <th>6</th>\n",
              "      <td>Connolly, Miss. Kate</td>\n",
              "      <td>30.0</td>\n",
              "      <td>7.6292</td>\n",
              "    </tr>\n",
              "    <tr>\n",
              "      <th>7</th>\n",
              "      <td>Caldwell, Mr. Albert Francis</td>\n",
              "      <td>26.0</td>\n",
              "      <td>29.0000</td>\n",
              "    </tr>\n",
              "    <tr>\n",
              "      <th>8</th>\n",
              "      <td>Abrahim, Mrs. Joseph (Sophie Halaut Easu)</td>\n",
              "      <td>18.0</td>\n",
              "      <td>7.2292</td>\n",
              "    </tr>\n",
              "    <tr>\n",
              "      <th>9</th>\n",
              "      <td>Davies, Mr. John Samuel</td>\n",
              "      <td>21.0</td>\n",
              "      <td>24.1500</td>\n",
              "    </tr>\n",
              "  </tbody>\n",
              "</table>\n",
              "</div>"
            ],
            "text/plain": [
              "                                           Name   Age     Fare\n",
              "0                              Kelly, Mr. James  34.5   7.8292\n",
              "1              Wilkes, Mrs. James (Ellen Needs)  47.0   7.0000\n",
              "2                     Myles, Mr. Thomas Francis  62.0   9.6875\n",
              "3                              Wirz, Mr. Albert  27.0   8.6625\n",
              "4  Hirvonen, Mrs. Alexander (Helga E Lindqvist)  22.0  12.2875\n",
              "5                    Svensson, Mr. Johan Cervin  14.0   9.2250\n",
              "6                          Connolly, Miss. Kate  30.0   7.6292\n",
              "7                  Caldwell, Mr. Albert Francis  26.0  29.0000\n",
              "8     Abrahim, Mrs. Joseph (Sophie Halaut Easu)  18.0   7.2292\n",
              "9                       Davies, Mr. John Samuel  21.0  24.1500"
            ]
          },
          "execution_count": 14,
          "metadata": {},
          "output_type": "execute_result"
        }
      ],
      "source": [
        "titanicData.loc[:9, [\"Name\", \"Age\", \"Fare\"]]"
      ]
    },
    {
      "cell_type": "markdown",
      "metadata": {
        "id": "z2iFTTa2-nAv"
      },
      "source": [
        " 5. Print the descriptive statistics of the Titanic dataset."
      ]
    },
    {
      "cell_type": "code",
      "execution_count": 15,
      "metadata": {
        "id": "VvurbDoL-xJE"
      },
      "outputs": [
        {
          "data": {
            "text/html": [
              "<div>\n",
              "<style scoped>\n",
              "    .dataframe tbody tr th:only-of-type {\n",
              "        vertical-align: middle;\n",
              "    }\n",
              "\n",
              "    .dataframe tbody tr th {\n",
              "        vertical-align: top;\n",
              "    }\n",
              "\n",
              "    .dataframe thead th {\n",
              "        text-align: right;\n",
              "    }\n",
              "</style>\n",
              "<table border=\"1\" class=\"dataframe\">\n",
              "  <thead>\n",
              "    <tr style=\"text-align: right;\">\n",
              "      <th></th>\n",
              "      <th>PassengerId</th>\n",
              "      <th>Survived</th>\n",
              "      <th>Pclass</th>\n",
              "      <th>Age</th>\n",
              "      <th>SibSp</th>\n",
              "      <th>Parch</th>\n",
              "      <th>Fare</th>\n",
              "    </tr>\n",
              "  </thead>\n",
              "  <tbody>\n",
              "    <tr>\n",
              "      <th>count</th>\n",
              "      <td>418.000000</td>\n",
              "      <td>418.000000</td>\n",
              "      <td>418.000000</td>\n",
              "      <td>332.000000</td>\n",
              "      <td>418.000000</td>\n",
              "      <td>418.000000</td>\n",
              "      <td>417.000000</td>\n",
              "    </tr>\n",
              "    <tr>\n",
              "      <th>mean</th>\n",
              "      <td>1100.500000</td>\n",
              "      <td>0.363636</td>\n",
              "      <td>2.265550</td>\n",
              "      <td>30.272590</td>\n",
              "      <td>0.447368</td>\n",
              "      <td>0.392344</td>\n",
              "      <td>35.627188</td>\n",
              "    </tr>\n",
              "    <tr>\n",
              "      <th>std</th>\n",
              "      <td>120.810458</td>\n",
              "      <td>0.481622</td>\n",
              "      <td>0.841838</td>\n",
              "      <td>14.181209</td>\n",
              "      <td>0.896760</td>\n",
              "      <td>0.981429</td>\n",
              "      <td>55.907576</td>\n",
              "    </tr>\n",
              "    <tr>\n",
              "      <th>min</th>\n",
              "      <td>892.000000</td>\n",
              "      <td>0.000000</td>\n",
              "      <td>1.000000</td>\n",
              "      <td>0.170000</td>\n",
              "      <td>0.000000</td>\n",
              "      <td>0.000000</td>\n",
              "      <td>0.000000</td>\n",
              "    </tr>\n",
              "    <tr>\n",
              "      <th>25%</th>\n",
              "      <td>996.250000</td>\n",
              "      <td>0.000000</td>\n",
              "      <td>1.000000</td>\n",
              "      <td>21.000000</td>\n",
              "      <td>0.000000</td>\n",
              "      <td>0.000000</td>\n",
              "      <td>7.895800</td>\n",
              "    </tr>\n",
              "    <tr>\n",
              "      <th>50%</th>\n",
              "      <td>1100.500000</td>\n",
              "      <td>0.000000</td>\n",
              "      <td>3.000000</td>\n",
              "      <td>27.000000</td>\n",
              "      <td>0.000000</td>\n",
              "      <td>0.000000</td>\n",
              "      <td>14.454200</td>\n",
              "    </tr>\n",
              "    <tr>\n",
              "      <th>75%</th>\n",
              "      <td>1204.750000</td>\n",
              "      <td>1.000000</td>\n",
              "      <td>3.000000</td>\n",
              "      <td>39.000000</td>\n",
              "      <td>1.000000</td>\n",
              "      <td>0.000000</td>\n",
              "      <td>31.500000</td>\n",
              "    </tr>\n",
              "    <tr>\n",
              "      <th>max</th>\n",
              "      <td>1309.000000</td>\n",
              "      <td>1.000000</td>\n",
              "      <td>3.000000</td>\n",
              "      <td>76.000000</td>\n",
              "      <td>8.000000</td>\n",
              "      <td>9.000000</td>\n",
              "      <td>512.329200</td>\n",
              "    </tr>\n",
              "  </tbody>\n",
              "</table>\n",
              "</div>"
            ],
            "text/plain": [
              "       PassengerId    Survived      Pclass         Age       SibSp  \\\n",
              "count   418.000000  418.000000  418.000000  332.000000  418.000000   \n",
              "mean   1100.500000    0.363636    2.265550   30.272590    0.447368   \n",
              "std     120.810458    0.481622    0.841838   14.181209    0.896760   \n",
              "min     892.000000    0.000000    1.000000    0.170000    0.000000   \n",
              "25%     996.250000    0.000000    1.000000   21.000000    0.000000   \n",
              "50%    1100.500000    0.000000    3.000000   27.000000    0.000000   \n",
              "75%    1204.750000    1.000000    3.000000   39.000000    1.000000   \n",
              "max    1309.000000    1.000000    3.000000   76.000000    8.000000   \n",
              "\n",
              "            Parch        Fare  \n",
              "count  418.000000  417.000000  \n",
              "mean     0.392344   35.627188  \n",
              "std      0.981429   55.907576  \n",
              "min      0.000000    0.000000  \n",
              "25%      0.000000    7.895800  \n",
              "50%      0.000000   14.454200  \n",
              "75%      0.000000   31.500000  \n",
              "max      9.000000  512.329200  "
            ]
          },
          "execution_count": 15,
          "metadata": {},
          "output_type": "execute_result"
        }
      ],
      "source": [
        "titanicData.describe()"
      ]
    },
    {
      "cell_type": "markdown",
      "metadata": {
        "id": "U95dijMI-9x1"
      },
      "source": [
        "6. Remove rows with missing values in the `Age` column."
      ]
    },
    {
      "cell_type": "code",
      "execution_count": 31,
      "metadata": {
        "id": "mMKNND-E_jnL"
      },
      "outputs": [
        {
          "name": "stdout",
          "output_type": "stream",
          "text": [
            "0      34.50\n",
            "1      47.00\n",
            "2      62.00\n",
            "3      27.00\n",
            "4      22.00\n",
            "5      14.00\n",
            "6      30.00\n",
            "7      26.00\n",
            "8      18.00\n",
            "9      21.00\n",
            "11     46.00\n",
            "12     23.00\n",
            "13     63.00\n",
            "14     47.00\n",
            "15     24.00\n",
            "16     35.00\n",
            "17     21.00\n",
            "18     27.00\n",
            "19     45.00\n",
            "20     55.00\n",
            "21      9.00\n",
            "23     21.00\n",
            "24     48.00\n",
            "25     50.00\n",
            "26     22.00\n",
            "27     22.50\n",
            "28     41.00\n",
            "30     50.00\n",
            "31     24.00\n",
            "32     33.00\n",
            "34     30.00\n",
            "35     18.50\n",
            "37     21.00\n",
            "38     25.00\n",
            "40     39.00\n",
            "42     41.00\n",
            "43     30.00\n",
            "44     45.00\n",
            "45     25.00\n",
            "46     45.00\n",
            "48     60.00\n",
            "49     36.00\n",
            "50     24.00\n",
            "51     27.00\n",
            "52     20.00\n",
            "53     28.00\n",
            "55     10.00\n",
            "56     35.00\n",
            "57     25.00\n",
            "59     36.00\n",
            "60     17.00\n",
            "61     32.00\n",
            "62     18.00\n",
            "63     22.00\n",
            "64     13.00\n",
            "66     18.00\n",
            "67     47.00\n",
            "68     31.00\n",
            "69     60.00\n",
            "70     24.00\n",
            "71     21.00\n",
            "72     29.00\n",
            "73     28.50\n",
            "74     35.00\n",
            "75     32.50\n",
            "77     55.00\n",
            "78     30.00\n",
            "79     24.00\n",
            "80      6.00\n",
            "81     67.00\n",
            "82     49.00\n",
            "86     27.00\n",
            "87     18.00\n",
            "89      2.00\n",
            "90     22.00\n",
            "92     27.00\n",
            "94     25.00\n",
            "95     25.00\n",
            "96     76.00\n",
            "97     29.00\n",
            "98     20.00\n",
            "99     33.00\n",
            "100    43.00\n",
            "101    27.00\n",
            "103    26.00\n",
            "104    16.00\n",
            "105    28.00\n",
            "106    21.00\n",
            "109    18.50\n",
            "110    41.00\n",
            "112    36.00\n",
            "113    18.50\n",
            "114    63.00\n",
            "115    18.00\n",
            "117     1.00\n",
            "118    36.00\n",
            "119    29.00\n",
            "120    12.00\n",
            "122    35.00\n",
            "123    28.00\n",
            "125    17.00\n",
            "126    22.00\n",
            "128    42.00\n",
            "129    24.00\n",
            "130    32.00\n",
            "131    53.00\n",
            "134    43.00\n",
            "135    24.00\n",
            "136    26.50\n",
            "137    26.00\n",
            "138    23.00\n",
            "139    40.00\n",
            "140    10.00\n",
            "141    33.00\n",
            "142    61.00\n",
            "143    28.00\n",
            "144    42.00\n",
            "145    31.00\n",
            "147    22.00\n",
            "149    30.00\n",
            "150    23.00\n",
            "152    60.50\n",
            "153    36.00\n",
            "154    13.00\n",
            "155    24.00\n",
            "156    29.00\n",
            "157    23.00\n",
            "158    42.00\n",
            "159    26.00\n",
            "161     7.00\n",
            "162    26.00\n",
            "164    41.00\n",
            "165    26.00\n",
            "166    48.00\n",
            "167    18.00\n",
            "169    22.00\n",
            "171    27.00\n",
            "172    23.00\n",
            "174    40.00\n",
            "175    15.00\n",
            "176    20.00\n",
            "177    54.00\n",
            "178    36.00\n",
            "179    64.00\n",
            "180    30.00\n",
            "181    37.00\n",
            "182    18.00\n",
            "184    27.00\n",
            "185    40.00\n",
            "186    21.00\n",
            "187    17.00\n",
            "189    40.00\n",
            "190    34.00\n",
            "192    11.50\n",
            "193    61.00\n",
            "194     8.00\n",
            "195    33.00\n",
            "196     6.00\n",
            "197    18.00\n",
            "198    23.00\n",
            "201     0.33\n",
            "202    47.00\n",
            "203     8.00\n",
            "204    25.00\n",
            "206    35.00\n",
            "207    24.00\n",
            "208    33.00\n",
            "209    25.00\n",
            "210    32.00\n",
            "212    17.00\n",
            "213    60.00\n",
            "214    38.00\n",
            "215    42.00\n",
            "217    57.00\n",
            "218    50.00\n",
            "220    30.00\n",
            "221    21.00\n",
            "222    22.00\n",
            "223    21.00\n",
            "224    53.00\n",
            "226    23.00\n",
            "228    40.50\n",
            "229    36.00\n",
            "230    14.00\n",
            "231    21.00\n",
            "232    21.00\n",
            "234    39.00\n",
            "235    20.00\n",
            "236    64.00\n",
            "237    20.00\n",
            "238    18.00\n",
            "239    48.00\n",
            "240    55.00\n",
            "241    45.00\n",
            "242    45.00\n",
            "245    41.00\n",
            "246    22.00\n",
            "247    42.00\n",
            "248    29.00\n",
            "250     0.92\n",
            "251    20.00\n",
            "252    27.00\n",
            "253    24.00\n",
            "254    32.50\n",
            "257    28.00\n",
            "258    19.00\n",
            "259    21.00\n",
            "260    36.50\n",
            "261    21.00\n",
            "262    29.00\n",
            "263     1.00\n",
            "264    30.00\n",
            "269    17.00\n",
            "270    46.00\n",
            "272    26.00\n",
            "275    20.00\n",
            "276    28.00\n",
            "277    40.00\n",
            "278    30.00\n",
            "279    22.00\n",
            "280    23.00\n",
            "281     0.75\n",
            "283     9.00\n",
            "284     2.00\n",
            "285    36.00\n",
            "287    24.00\n",
            "291    30.00\n",
            "293    53.00\n",
            "294    36.00\n",
            "295    26.00\n",
            "296     1.00\n",
            "298    30.00\n",
            "299    29.00\n",
            "300    32.00\n",
            "302    43.00\n",
            "303    24.00\n",
            "305    64.00\n",
            "306    30.00\n",
            "307     0.83\n",
            "308    55.00\n",
            "309    45.00\n",
            "310    18.00\n",
            "311    22.00\n",
            "313    37.00\n",
            "314    55.00\n",
            "315    17.00\n",
            "316    57.00\n",
            "317    19.00\n",
            "318    27.00\n",
            "319    22.00\n",
            "320    26.00\n",
            "321    25.00\n",
            "322    26.00\n",
            "323    33.00\n",
            "324    39.00\n",
            "325    23.00\n",
            "326    12.00\n",
            "327    46.00\n",
            "328    29.00\n",
            "329    21.00\n",
            "330    48.00\n",
            "331    39.00\n",
            "333    19.00\n",
            "334    27.00\n",
            "335    30.00\n",
            "336    32.00\n",
            "337    39.00\n",
            "338    25.00\n",
            "340    18.00\n",
            "341    32.00\n",
            "343    58.00\n",
            "345    16.00\n",
            "346    26.00\n",
            "347    38.00\n",
            "348    24.00\n",
            "349    31.00\n",
            "350    45.00\n",
            "351    25.00\n",
            "352    18.00\n",
            "353    49.00\n",
            "354     0.17\n",
            "355    50.00\n",
            "356    59.00\n",
            "359    30.00\n",
            "360    14.50\n",
            "361    24.00\n",
            "362    31.00\n",
            "363    27.00\n",
            "364    25.00\n",
            "367    22.00\n",
            "368    45.00\n",
            "369    29.00\n",
            "370    21.00\n",
            "371    31.00\n",
            "372    49.00\n",
            "373    44.00\n",
            "374    54.00\n",
            "375    45.00\n",
            "376    22.00\n",
            "377    21.00\n",
            "378    55.00\n",
            "379     5.00\n",
            "381    26.00\n",
            "383    19.00\n",
            "385    24.00\n",
            "386    24.00\n",
            "387    57.00\n",
            "388    21.00\n",
            "389     6.00\n",
            "390    23.00\n",
            "391    51.00\n",
            "392    13.00\n",
            "393    47.00\n",
            "394    29.00\n",
            "395    18.00\n",
            "396    24.00\n",
            "397    48.00\n",
            "398    22.00\n",
            "399    31.00\n",
            "400    30.00\n",
            "401    38.00\n",
            "402    22.00\n",
            "403    17.00\n",
            "404    43.00\n",
            "405    20.00\n",
            "406    23.00\n",
            "407    50.00\n",
            "409     3.00\n",
            "411    37.00\n",
            "412    28.00\n",
            "414    39.00\n",
            "415    38.50\n"
          ]
        }
      ],
      "source": [
        "newTitanicData = titanicData[\"Age\"].dropna()\n",
        "\n",
        "print(newTitanicData.to_string())"
      ]
    },
    {
      "cell_type": "markdown",
      "metadata": {
        "id": "U-2X_e-fFHI5"
      },
      "source": [
        "7. Remove duplicate rows from the dataset."
      ]
    },
    {
      "cell_type": "code",
      "execution_count": 40,
      "metadata": {
        "id": "l2X-ym9eFIT-"
      },
      "outputs": [
        {
          "name": "stdout",
          "output_type": "stream",
          "text": [
            "<bound method DataFrame.to_string of      PassengerId  Survived  Pclass  \\\n",
            "0            892         0       3   \n",
            "1            893         1       3   \n",
            "2            894         0       2   \n",
            "3            895         0       3   \n",
            "4            896         1       3   \n",
            "..           ...       ...     ...   \n",
            "413         1305         0       3   \n",
            "414         1306         1       1   \n",
            "415         1307         0       3   \n",
            "416         1308         0       3   \n",
            "417         1309         0       3   \n",
            "\n",
            "                                             Name     Sex   Age  SibSp  Parch  \\\n",
            "0                                Kelly, Mr. James    male  34.5      0      0   \n",
            "1                Wilkes, Mrs. James (Ellen Needs)  female  47.0      1      0   \n",
            "2                       Myles, Mr. Thomas Francis    male  62.0      0      0   \n",
            "3                                Wirz, Mr. Albert    male  27.0      0      0   \n",
            "4    Hirvonen, Mrs. Alexander (Helga E Lindqvist)  female  22.0      1      1   \n",
            "..                                            ...     ...   ...    ...    ...   \n",
            "413                            Spector, Mr. Woolf    male   NaN      0      0   \n",
            "414                  Oliva y Ocana, Dona. Fermina  female  39.0      0      0   \n",
            "415                  Saether, Mr. Simon Sivertsen    male  38.5      0      0   \n",
            "416                           Ware, Mr. Frederick    male   NaN      0      0   \n",
            "417                      Peter, Master. Michael J    male   NaN      1      1   \n",
            "\n",
            "                 Ticket      Fare Cabin Embarked  \n",
            "0                330911    7.8292   NaN        Q  \n",
            "1                363272    7.0000   NaN        S  \n",
            "2                240276    9.6875   NaN        Q  \n",
            "3                315154    8.6625   NaN        S  \n",
            "4               3101298   12.2875   NaN        S  \n",
            "..                  ...       ...   ...      ...  \n",
            "413           A.5. 3236    8.0500   NaN        S  \n",
            "414            PC 17758  108.9000  C105        C  \n",
            "415  SOTON/O.Q. 3101262    7.2500   NaN        S  \n",
            "416              359309    8.0500   NaN        S  \n",
            "417                2668   22.3583   NaN        C  \n",
            "\n",
            "[418 rows x 12 columns]>\n"
          ]
        }
      ],
      "source": [
        "titanicData.drop_duplicates(inplace = True)\n",
        "\n",
        "print(titanicData.to_string)\n"
      ]
    },
    {
      "cell_type": "markdown",
      "metadata": {
        "id": "b-SvrKnKFL1m"
      },
      "source": [
        "8. Compute and display the correlation matrix of the dataset."
      ]
    },
    {
      "cell_type": "code",
      "execution_count": 73,
      "metadata": {},
      "outputs": [
        {
          "ename": "ValueError",
          "evalue": "could not convert string to float: 'Kelly, Mr. James'",
          "output_type": "error",
          "traceback": [
            "\u001b[0;31m---------------------------------------------------------------------------\u001b[0m",
            "\u001b[0;31mValueError\u001b[0m                                Traceback (most recent call last)",
            "Cell \u001b[0;32mIn[73], line 1\u001b[0m\n\u001b[0;32m----> 1\u001b[0m \u001b[43mtitanicData\u001b[49m\u001b[38;5;241;43m.\u001b[39;49m\u001b[43mcorr\u001b[49m\u001b[43m(\u001b[49m\u001b[43m)\u001b[49m\n",
            "File \u001b[0;32m~/Code/CS-3246/.venv/lib/python3.13/site-packages/pandas/core/frame.py:11049\u001b[0m, in \u001b[0;36mDataFrame.corr\u001b[0;34m(self, method, min_periods, numeric_only)\u001b[0m\n\u001b[1;32m  11047\u001b[0m cols \u001b[38;5;241m=\u001b[39m data\u001b[38;5;241m.\u001b[39mcolumns\n\u001b[1;32m  11048\u001b[0m idx \u001b[38;5;241m=\u001b[39m cols\u001b[38;5;241m.\u001b[39mcopy()\n\u001b[0;32m> 11049\u001b[0m mat \u001b[38;5;241m=\u001b[39m \u001b[43mdata\u001b[49m\u001b[38;5;241;43m.\u001b[39;49m\u001b[43mto_numpy\u001b[49m\u001b[43m(\u001b[49m\u001b[43mdtype\u001b[49m\u001b[38;5;241;43m=\u001b[39;49m\u001b[38;5;28;43mfloat\u001b[39;49m\u001b[43m,\u001b[49m\u001b[43m \u001b[49m\u001b[43mna_value\u001b[49m\u001b[38;5;241;43m=\u001b[39;49m\u001b[43mnp\u001b[49m\u001b[38;5;241;43m.\u001b[39;49m\u001b[43mnan\u001b[49m\u001b[43m,\u001b[49m\u001b[43m \u001b[49m\u001b[43mcopy\u001b[49m\u001b[38;5;241;43m=\u001b[39;49m\u001b[38;5;28;43;01mFalse\u001b[39;49;00m\u001b[43m)\u001b[49m\n\u001b[1;32m  11051\u001b[0m \u001b[38;5;28;01mif\u001b[39;00m method \u001b[38;5;241m==\u001b[39m \u001b[38;5;124m\"\u001b[39m\u001b[38;5;124mpearson\u001b[39m\u001b[38;5;124m\"\u001b[39m:\n\u001b[1;32m  11052\u001b[0m     correl \u001b[38;5;241m=\u001b[39m libalgos\u001b[38;5;241m.\u001b[39mnancorr(mat, minp\u001b[38;5;241m=\u001b[39mmin_periods)\n",
            "File \u001b[0;32m~/Code/CS-3246/.venv/lib/python3.13/site-packages/pandas/core/frame.py:1993\u001b[0m, in \u001b[0;36mDataFrame.to_numpy\u001b[0;34m(self, dtype, copy, na_value)\u001b[0m\n\u001b[1;32m   1991\u001b[0m \u001b[38;5;28;01mif\u001b[39;00m dtype \u001b[38;5;129;01mis\u001b[39;00m \u001b[38;5;129;01mnot\u001b[39;00m \u001b[38;5;28;01mNone\u001b[39;00m:\n\u001b[1;32m   1992\u001b[0m     dtype \u001b[38;5;241m=\u001b[39m np\u001b[38;5;241m.\u001b[39mdtype(dtype)\n\u001b[0;32m-> 1993\u001b[0m result \u001b[38;5;241m=\u001b[39m \u001b[38;5;28;43mself\u001b[39;49m\u001b[38;5;241;43m.\u001b[39;49m\u001b[43m_mgr\u001b[49m\u001b[38;5;241;43m.\u001b[39;49m\u001b[43mas_array\u001b[49m\u001b[43m(\u001b[49m\u001b[43mdtype\u001b[49m\u001b[38;5;241;43m=\u001b[39;49m\u001b[43mdtype\u001b[49m\u001b[43m,\u001b[49m\u001b[43m \u001b[49m\u001b[43mcopy\u001b[49m\u001b[38;5;241;43m=\u001b[39;49m\u001b[43mcopy\u001b[49m\u001b[43m,\u001b[49m\u001b[43m \u001b[49m\u001b[43mna_value\u001b[49m\u001b[38;5;241;43m=\u001b[39;49m\u001b[43mna_value\u001b[49m\u001b[43m)\u001b[49m\n\u001b[1;32m   1994\u001b[0m \u001b[38;5;28;01mif\u001b[39;00m result\u001b[38;5;241m.\u001b[39mdtype \u001b[38;5;129;01mis\u001b[39;00m \u001b[38;5;129;01mnot\u001b[39;00m dtype:\n\u001b[1;32m   1995\u001b[0m     result \u001b[38;5;241m=\u001b[39m np\u001b[38;5;241m.\u001b[39masarray(result, dtype\u001b[38;5;241m=\u001b[39mdtype)\n",
            "File \u001b[0;32m~/Code/CS-3246/.venv/lib/python3.13/site-packages/pandas/core/internals/managers.py:1694\u001b[0m, in \u001b[0;36mBlockManager.as_array\u001b[0;34m(self, dtype, copy, na_value)\u001b[0m\n\u001b[1;32m   1692\u001b[0m         arr\u001b[38;5;241m.\u001b[39mflags\u001b[38;5;241m.\u001b[39mwriteable \u001b[38;5;241m=\u001b[39m \u001b[38;5;28;01mFalse\u001b[39;00m\n\u001b[1;32m   1693\u001b[0m \u001b[38;5;28;01melse\u001b[39;00m:\n\u001b[0;32m-> 1694\u001b[0m     arr \u001b[38;5;241m=\u001b[39m \u001b[38;5;28;43mself\u001b[39;49m\u001b[38;5;241;43m.\u001b[39;49m\u001b[43m_interleave\u001b[49m\u001b[43m(\u001b[49m\u001b[43mdtype\u001b[49m\u001b[38;5;241;43m=\u001b[39;49m\u001b[43mdtype\u001b[49m\u001b[43m,\u001b[49m\u001b[43m \u001b[49m\u001b[43mna_value\u001b[49m\u001b[38;5;241;43m=\u001b[39;49m\u001b[43mna_value\u001b[49m\u001b[43m)\u001b[49m\n\u001b[1;32m   1695\u001b[0m     \u001b[38;5;66;03m# The underlying data was copied within _interleave, so no need\u001b[39;00m\n\u001b[1;32m   1696\u001b[0m     \u001b[38;5;66;03m# to further copy if copy=True or setting na_value\u001b[39;00m\n\u001b[1;32m   1698\u001b[0m \u001b[38;5;28;01mif\u001b[39;00m na_value \u001b[38;5;129;01mis\u001b[39;00m lib\u001b[38;5;241m.\u001b[39mno_default:\n",
            "File \u001b[0;32m~/Code/CS-3246/.venv/lib/python3.13/site-packages/pandas/core/internals/managers.py:1753\u001b[0m, in \u001b[0;36mBlockManager._interleave\u001b[0;34m(self, dtype, na_value)\u001b[0m\n\u001b[1;32m   1751\u001b[0m     \u001b[38;5;28;01melse\u001b[39;00m:\n\u001b[1;32m   1752\u001b[0m         arr \u001b[38;5;241m=\u001b[39m blk\u001b[38;5;241m.\u001b[39mget_values(dtype)\n\u001b[0;32m-> 1753\u001b[0m     \u001b[43mresult\u001b[49m\u001b[43m[\u001b[49m\u001b[43mrl\u001b[49m\u001b[38;5;241;43m.\u001b[39;49m\u001b[43mindexer\u001b[49m\u001b[43m]\u001b[49m \u001b[38;5;241m=\u001b[39m arr\n\u001b[1;32m   1754\u001b[0m     itemmask[rl\u001b[38;5;241m.\u001b[39mindexer] \u001b[38;5;241m=\u001b[39m \u001b[38;5;241m1\u001b[39m\n\u001b[1;32m   1756\u001b[0m \u001b[38;5;28;01mif\u001b[39;00m \u001b[38;5;129;01mnot\u001b[39;00m itemmask\u001b[38;5;241m.\u001b[39mall():\n",
            "\u001b[0;31mValueError\u001b[0m: could not convert string to float: 'Kelly, Mr. James'"
          ]
        }
      ],
      "source": [
        "titanicData.corr()"
      ]
    },
    {
      "cell_type": "markdown",
      "metadata": {},
      "source": [
        "Dataset has string values which is not compatible with the .corr() function"
      ]
    },
    {
      "cell_type": "markdown",
      "metadata": {
        "id": "_v_OG5PPLUcL"
      },
      "source": [
        "# Part 2: Working with Case Studies\n",
        "\n",
        "When working on these case studies, **always ensure that your code is properly documented and clearly presented**. Follow these key principles:  \n",
        "\n",
        "### **1. Always Show Your Code**  \n",
        "- Every step of data exploration, cleaning, and analysis should include **visible code outputs**.  \n",
        "- Do not skip showing your process, as transparency is essential for reproducibility.  \n",
        "\n",
        "### **2. Proper Documentation is Necessary**  \n",
        "- Use **comments (`#`) in Python** to explain your code clearly.  \n",
        "- Add **Markdown cells** to describe each step before executing the code.  \n",
        "- Explain key findings in simple language to make the analysis easy to understand.  \n",
        "\n",
        "### **3. Use Readable and Organized Code**  \n",
        "- Follow a **step-by-step approach** to keep the notebook structured.  \n",
        "- Use **proper variable names** and avoid hardcoding values where possible."
      ]
    },
    {
      "cell_type": "markdown",
      "metadata": {
        "id": "WOzxo0NoFZJ5"
      },
      "source": [
        "# **Case Study 1: Iris Flower Classification** 🌸  \n",
        "\n",
        "### **Background**  \n",
        "A botanical research institute wants to develop an automated system that classifies different species of **iris flowers** based on their **sepal and petal measurements**.  The dataset consists of **150 samples**, labeled as **Setosa, Versicolor, or Virginica**.  \n",
        "\n",
        "### **Problem Statement**  \n",
        "Can we use **sepal and petal dimensions** to correctly classify the **species of an iris flower**?  \n",
        "\n",
        "### **Task Description**  \n",
        "\n",
        "#### **1. Data Exploration**  \n",
        "- Load the dataset and display the first few rows.  \n",
        "- Identify any missing or inconsistent values.  \n",
        "\n",
        "#### **2. Data Cleaning**  \n",
        "- Check for missing values and handle them appropriately.  \n",
        "- Convert categorical species labels into a format suitable for analysis.  \n",
        "\n",
        "#### **3. Basic Data Analysis**  \n",
        "- Find the average sepal and petal dimensions for each species.  \n",
        "- Identify correlations between different flower measurements.  \n",
        "\n",
        "#### **4. Visualization**  \n",
        "- Create simple visualizations (e.g., histograms, scatter plots) to understand data distribution.  \n",
        "\n",
        "#### **5. Insights & Interpretation**  \n",
        "- Summarize key findings, such as which features best distinguish flower species.  "
      ]
    },
    {
      "cell_type": "markdown",
      "metadata": {},
      "source": [
        "1. Data Exploration"
      ]
    },
    {
      "cell_type": "code",
      "execution_count": 79,
      "metadata": {},
      "outputs": [
        {
          "name": "stderr",
          "output_type": "stream",
          "text": [
            "Matplotlib is building the font cache; this may take a moment.\n"
          ]
        },
        {
          "name": "stdout",
          "output_type": "stream",
          "text": [
            "First 5 rows of dataset:\n",
            "   sepal_length  sepal_width  petal_length  petal_width      species\n",
            "0           5.1          3.5           1.4          0.2  Iris-setosa\n",
            "1           4.9          3.0           1.4          0.2  Iris-setosa\n",
            "2           4.7          3.2           1.3          0.2  Iris-setosa\n",
            "3           4.6          3.1           1.5          0.2  Iris-setosa\n",
            "4           5.0          3.6           1.4          0.2  Iris-setosa\n",
            "----------------------------------------\n",
            "Check for missing values:\n",
            "sepal_length    0\n",
            "sepal_width     0\n",
            "petal_length    0\n",
            "petal_width     0\n",
            "species         0\n",
            "----------------------------------------\n"
          ]
        }
      ],
      "source": [
        "# import iris_dataset.csv file\n",
        "irisData = pd.read_csv(\"iris_dataset.csv\")\n",
        "\n",
        "# display first 5 rows\n",
        "print(f\"First 5 rows of dataset:\")\n",
        "print(f\"{irisData.head()}\\n----------------------------------------\")\n",
        "\n",
        "# check for missing data\n",
        "print(f\"Check for missing values:\")\n",
        "print(f\"{irisData.isna().sum().to_string()}\\n----------------------------------------\")"
      ]
    },
    {
      "cell_type": "markdown",
      "metadata": {},
      "source": [
        "2. Data Cleaning"
      ]
    },
    {
      "cell_type": "code",
      "execution_count": 88,
      "metadata": {},
      "outputs": [
        {
          "name": "stdout",
          "output_type": "stream",
          "text": [
            "Number if missing values:\n",
            "sepal_length    0\n",
            "sepal_width     0\n",
            "petal_length    0\n",
            "petal_width     0\n",
            "species         0\n",
            "dtype: int64\n",
            "----------------------------------------\n",
            "Replace missing values with mean:\n",
            "     sepal_length  sepal_width  petal_length  petal_width  species\n",
            "0             5.1          3.5           1.4          0.2        1\n",
            "1             4.9          3.0           1.4          0.2        1\n",
            "2             4.7          3.2           1.3          0.2        1\n",
            "3             4.6          3.1           1.5          0.2        1\n",
            "4             5.0          3.6           1.4          0.2        1\n",
            "5             5.4          3.9           1.7          0.4        1\n",
            "6             4.6          3.4           1.4          0.3        1\n",
            "7             5.0          3.4           1.5          0.2        1\n",
            "8             4.4          2.9           1.4          0.2        1\n",
            "9             4.9          3.1           1.5          0.1        1\n",
            "10            5.4          3.7           1.5          0.2        1\n",
            "11            4.8          3.4           1.6          0.2        1\n",
            "12            4.8          3.0           1.4          0.1        1\n",
            "13            4.3          3.0           1.1          0.1        1\n",
            "14            5.8          4.0           1.2          0.2        1\n",
            "15            5.7          4.4           1.5          0.4        1\n",
            "16            5.4          3.9           1.3          0.4        1\n",
            "17            5.1          3.5           1.4          0.3        1\n",
            "18            5.7          3.8           1.7          0.3        1\n",
            "19            5.1          3.8           1.5          0.3        1\n",
            "20            5.4          3.4           1.7          0.2        1\n",
            "21            5.1          3.7           1.5          0.4        1\n",
            "22            4.6          3.6           1.0          0.2        1\n",
            "23            5.1          3.3           1.7          0.5        1\n",
            "24            4.8          3.4           1.9          0.2        1\n",
            "25            5.0          3.0           1.6          0.2        1\n",
            "26            5.0          3.4           1.6          0.4        1\n",
            "27            5.2          3.5           1.5          0.2        1\n",
            "28            5.2          3.4           1.4          0.2        1\n",
            "29            4.7          3.2           1.6          0.2        1\n",
            "30            4.8          3.1           1.6          0.2        1\n",
            "31            5.4          3.4           1.5          0.4        1\n",
            "32            5.2          4.1           1.5          0.1        1\n",
            "33            5.5          4.2           1.4          0.2        1\n",
            "34            4.9          3.1           1.5          0.1        1\n",
            "35            5.0          3.2           1.2          0.2        1\n",
            "36            5.5          3.5           1.3          0.2        1\n",
            "37            4.9          3.1           1.5          0.1        1\n",
            "38            4.4          3.0           1.3          0.2        1\n",
            "39            5.1          3.4           1.5          0.2        1\n",
            "40            5.0          3.5           1.3          0.3        1\n",
            "41            4.5          2.3           1.3          0.3        1\n",
            "42            4.4          3.2           1.3          0.2        1\n",
            "43            5.0          3.5           1.6          0.6        1\n",
            "44            5.1          3.8           1.9          0.4        1\n",
            "45            4.8          3.0           1.4          0.3        1\n",
            "46            5.1          3.8           1.6          0.2        1\n",
            "47            4.6          3.2           1.4          0.2        1\n",
            "48            5.3          3.7           1.5          0.2        1\n",
            "49            5.0          3.3           1.4          0.2        1\n",
            "50            7.0          3.2           4.7          1.4        2\n",
            "51            6.4          3.2           4.5          1.5        2\n",
            "52            6.9          3.1           4.9          1.5        2\n",
            "53            5.5          2.3           4.0          1.3        2\n",
            "54            6.5          2.8           4.6          1.5        2\n",
            "55            5.7          2.8           4.5          1.3        2\n",
            "56            6.3          3.3           4.7          1.6        2\n",
            "57            4.9          2.4           3.3          1.0        2\n",
            "58            6.6          2.9           4.6          1.3        2\n",
            "59            5.2          2.7           3.9          1.4        2\n",
            "60            5.0          2.0           3.5          1.0        2\n",
            "61            5.9          3.0           4.2          1.5        2\n",
            "62            6.0          2.2           4.0          1.0        2\n",
            "63            6.1          2.9           4.7          1.4        2\n",
            "64            5.6          2.9           3.6          1.3        2\n",
            "65            6.7          3.1           4.4          1.4        2\n",
            "66            5.6          3.0           4.5          1.5        2\n",
            "67            5.8          2.7           4.1          1.0        2\n",
            "68            6.2          2.2           4.5          1.5        2\n",
            "69            5.6          2.5           3.9          1.1        2\n",
            "70            5.9          3.2           4.8          1.8        2\n",
            "71            6.1          2.8           4.0          1.3        2\n",
            "72            6.3          2.5           4.9          1.5        2\n",
            "73            6.1          2.8           4.7          1.2        2\n",
            "74            6.4          2.9           4.3          1.3        2\n",
            "75            6.6          3.0           4.4          1.4        2\n",
            "76            6.8          2.8           4.8          1.4        2\n",
            "77            6.7          3.0           5.0          1.7        2\n",
            "78            6.0          2.9           4.5          1.5        2\n",
            "79            5.7          2.6           3.5          1.0        2\n",
            "80            5.5          2.4           3.8          1.1        2\n",
            "81            5.5          2.4           3.7          1.0        2\n",
            "82            5.8          2.7           3.9          1.2        2\n",
            "83            6.0          2.7           5.1          1.6        2\n",
            "84            5.4          3.0           4.5          1.5        2\n",
            "85            6.0          3.4           4.5          1.6        2\n",
            "86            6.7          3.1           4.7          1.5        2\n",
            "87            6.3          2.3           4.4          1.3        2\n",
            "88            5.6          3.0           4.1          1.3        2\n",
            "89            5.5          2.5           4.0          1.3        2\n",
            "90            5.5          2.6           4.4          1.2        2\n",
            "91            6.1          3.0           4.6          1.4        2\n",
            "92            5.8          2.6           4.0          1.2        2\n",
            "93            5.0          2.3           3.3          1.0        2\n",
            "94            5.6          2.7           4.2          1.3        2\n",
            "95            5.7          3.0           4.2          1.2        2\n",
            "96            5.7          2.9           4.2          1.3        2\n",
            "97            6.2          2.9           4.3          1.3        2\n",
            "98            5.1          2.5           3.0          1.1        2\n",
            "99            5.7          2.8           4.1          1.3        2\n",
            "100           6.3          3.3           6.0          2.5        3\n",
            "101           5.8          2.7           5.1          1.9        3\n",
            "102           7.1          3.0           5.9          2.1        3\n",
            "103           6.3          2.9           5.6          1.8        3\n",
            "104           6.5          3.0           5.8          2.2        3\n",
            "105           7.6          3.0           6.6          2.1        3\n",
            "106           4.9          2.5           4.5          1.7        3\n",
            "107           7.3          2.9           6.3          1.8        3\n",
            "108           6.7          2.5           5.8          1.8        3\n",
            "109           7.2          3.6           6.1          2.5        3\n",
            "110           6.5          3.2           5.1          2.0        3\n",
            "111           6.4          2.7           5.3          1.9        3\n",
            "112           6.8          3.0           5.5          2.1        3\n",
            "113           5.7          2.5           5.0          2.0        3\n",
            "114           5.8          2.8           5.1          2.4        3\n",
            "115           6.4          3.2           5.3          2.3        3\n",
            "116           6.5          3.0           5.5          1.8        3\n",
            "117           7.7          3.8           6.7          2.2        3\n",
            "118           7.7          2.6           6.9          2.3        3\n",
            "119           6.0          2.2           5.0          1.5        3\n",
            "120           6.9          3.2           5.7          2.3        3\n",
            "121           5.6          2.8           4.9          2.0        3\n",
            "122           7.7          2.8           6.7          2.0        3\n",
            "123           6.3          2.7           4.9          1.8        3\n",
            "124           6.7          3.3           5.7          2.1        3\n",
            "125           7.2          3.2           6.0          1.8        3\n",
            "126           6.2          2.8           4.8          1.8        3\n",
            "127           6.1          3.0           4.9          1.8        3\n",
            "128           6.4          2.8           5.6          2.1        3\n",
            "129           7.2          3.0           5.8          1.6        3\n",
            "130           7.4          2.8           6.1          1.9        3\n",
            "131           7.9          3.8           6.4          2.0        3\n",
            "132           6.4          2.8           5.6          2.2        3\n",
            "133           6.3          2.8           5.1          1.5        3\n",
            "134           6.1          2.6           5.6          1.4        3\n",
            "135           7.7          3.0           6.1          2.3        3\n",
            "136           6.3          3.4           5.6          2.4        3\n",
            "137           6.4          3.1           5.5          1.8        3\n",
            "138           6.0          3.0           4.8          1.8        3\n",
            "139           6.9          3.1           5.4          2.1        3\n",
            "140           6.7          3.1           5.6          2.4        3\n",
            "141           6.9          3.1           5.1          2.3        3\n",
            "142           5.8          2.7           5.1          1.9        3\n",
            "143           6.8          3.2           5.9          2.3        3\n",
            "144           6.7          3.3           5.7          2.5        3\n",
            "145           6.7          3.0           5.2          2.3        3\n",
            "146           6.3          2.5           5.0          1.9        3\n",
            "147           6.5          3.0           5.2          2.0        3\n",
            "148           6.2          3.4           5.4          2.3        3\n",
            "149           5.9          3.0           5.1          1.8        3\n"
          ]
        },
        {
          "name": "stderr",
          "output_type": "stream",
          "text": [
            "/var/folders/q7/plgps2f54zndy40k4q14dw6c0000gn/T/ipykernel_17584/554361368.py:10: FutureWarning: A value is trying to be set on a copy of a DataFrame or Series through chained assignment using an inplace method.\n",
            "The behavior will change in pandas 3.0. This inplace method will never work because the intermediate object on which we are setting values always behaves as a copy.\n",
            "\n",
            "For example, when doing 'df[col].method(value, inplace=True)', try using 'df.method({col: value}, inplace=True)' or df[col] = df[col].method(value) instead, to perform the operation inplace on the original object.\n",
            "\n",
            "\n",
            "  irisData['species'].replace({'Iris-setosa': 1, 'Iris-versicolor': 2, 'Iris-virginica': 3}, inplace=True)\n"
          ]
        }
      ],
      "source": [
        "# find missing values\n",
        "missing_values = irisData.isnull().sum()\n",
        "print(f\"Number if missing values:\\n{missing_values}\\n----------------------------------------\")\n",
        "\n",
        "# replace missing values with mean\n",
        "irisData.fillna(irisData.mean(numeric_only=True), inplace=True)\n",
        "print(f\"Replace missing values with mean:\\n{irisData.to_string()}\")\n",
        "\n",
        "# convert categorical species into a format suitable for analysis\n",
        "irisData['species'].replace({'Iris-setosa': 1, 'Iris-versicolor': 2, 'Iris-virginica': 3}, inplace=True)"
      ]
    },
    {
      "cell_type": "markdown",
      "metadata": {},
      "source": [
        "3. Basic Data Analysis"
      ]
    },
    {
      "cell_type": "code",
      "execution_count": 91,
      "metadata": {},
      "outputs": [
        {
          "name": "stdout",
          "output_type": "stream",
          "text": [
            "Dimentions Mean Value:\n",
            "sepal_length    5.843333\n",
            "sepal_width     3.054000\n",
            "petal_length    3.758667\n",
            "petal_width     1.198667\n",
            "dtype: float64\n",
            "----------------------\n",
            "Correlation Table:\n",
            "              sepal_length  sepal_width  petal_length  petal_width   species\n",
            "sepal_length      1.000000    -0.109369      0.871754     0.817954  0.782561\n",
            "sepal_width      -0.109369     1.000000     -0.420516    -0.356544 -0.419446\n",
            "petal_length      0.871754    -0.420516      1.000000     0.962757  0.949043\n",
            "petal_width       0.817954    -0.356544      0.962757     1.000000  0.956464\n",
            "species           0.782561    -0.419446      0.949043     0.956464  1.000000\n",
            "\n"
          ]
        }
      ],
      "source": [
        "# find mean of petal and sepal dimensions\n",
        "average_dimensions = irisData[['sepal_length', 'sepal_width', 'petal_length', 'petal_width']].mean()\n",
        "print(f\"Dimentions Mean Value:\\n{average_dimensions}\\n----------------------\")\n",
        "\n",
        "\n",
        "# Correlations\n",
        "print(f\"Correlation Table:\")\n",
        "print(f\"{irisData.corr(numeric_only= True)}\\n\")"
      ]
    },
    {
      "cell_type": "markdown",
      "metadata": {},
      "source": [
        "4. Visualization"
      ]
    },
    {
      "cell_type": "code",
      "execution_count": 59,
      "metadata": {},
      "outputs": [
        {
          "name": "stdout",
          "output_type": "stream",
          "text": [
            "Histogram: \n"
          ]
        },
        {
          "data": {
            "image/png": "[encoded data removed]",
            "text/plain": [
              "<Figure size 640x480 with 1 Axes>"
            ]
          },
          "metadata": {},
          "output_type": "display_data"
        }
      ],
      "source": [
        "import matplotlib.pyplot as plt\n",
        "\n",
        "# Visualization\n",
        "print(f\"Histogram: \")\n",
        "irisData.plot(kind = 'hist')\n",
        "plt.show()\n"
      ]
    },
    {
      "cell_type": "markdown",
      "metadata": {},
      "source": [
        "5. Insights and Interpretation"
      ]
    },
    {
      "cell_type": "markdown",
      "metadata": {},
      "source": [
        "Based on the correlation table, the petal length and petal width the best features for classifying the Iris species."
      ]
    },
    {
      "cell_type": "markdown",
      "metadata": {
        "id": "acBPPZF1LN1S"
      },
      "source": [
        "# **Case Study 2: Netflix Content Analysis** 🎬  \n",
        "\n",
        "## **Background**  \n",
        "Netflix is a leading streaming platform with a vast collection of movies and TV shows. The company wants to analyze its **content library** to understand trends in **genres, release years, and regional distribution**.  \n",
        "\n",
        "## **Problem Statement**  \n",
        "How can we use **Netflix’s dataset** to gain insights into content distribution, popular genres, and release trends over time?  \n",
        "\n",
        "## **Task Description**  \n",
        "\n",
        "### **1. Data Exploration**  \n",
        "- Load the dataset and inspect its structure.  \n",
        "- Identify key columns such as title, genre, release year, and country.  \n",
        "\n",
        "### **2. Data Cleaning**  \n",
        "- Check for missing or incorrect values in key columns.  \n",
        "- Remove duplicates and format the date-related data properly.  \n",
        "\n",
        "### **3. Basic Data Analysis**  \n",
        "- Count the number of movies vs. TV shows.  \n",
        "- Identify the most common genres and countries producing content.  \n",
        "- Analyze the number of releases per year to observe trends.  \n",
        "\n",
        "### **4. Insights & Interpretation**  \n",
        "- Summarize key findings, such as trends in Netflix's content production over time.  \n"
      ]
    },
    {
      "cell_type": "code",
      "execution_count": null,
      "metadata": {
        "id": "Vrd7hTehLigX"
      },
      "outputs": [],
      "source": [
        "# read csv file\n",
        "netflixData = pd.read_csv(\"netflix_dataset.csv\")\n",
        "\n",
        "# display first 5 rows\n",
        "print(f\"First 5 rows of dataset:\")\n",
        "print(f\"{netflixData.head()}\\n\")\n",
        "\n",
        "# check dimensions\n",
        "print(f\"\\nDataFrame shape (rows, columns): {netflixData.shape}\")\n",
        "\n",
        "# check column data types and non-null counts\n",
        "print(\"\\nDataFrame info:\")\n",
        "print(netflixData.info())\n",
        "\n",
        "# look at key columns\n",
        "key_columns = ['title', 'listed_in', 'release_year', 'country']\n",
        "netflixData[key_columns]"
      ]
    },
    {
      "cell_type": "code",
      "execution_count": null,
      "metadata": {},
      "outputs": [
        {
          "name": "stdout",
          "output_type": "stream",
          "text": [
            "\n",
            "Missing values in key columns:\n",
            "title           0\n",
            "listed_in       0\n",
            "release_year    0\n",
            "country         0\n",
            "dtype: int64\n",
            "\n",
            "Number of duplicate rows: 0\n"
          ]
        }
      ],
      "source": [
        "# check for missing values in key columns\n",
        "print(\"\\nMissing values in key columns:\")\n",
        "print(netflixData[key_columns].isnull().sum())\n",
        "\n",
        "# check for duplicates\n",
        "print(f\"\\nNumber of duplicate rows: {netflixData.duplicated().sum()}\")\n",
        "\n",
        "# remove duplicates\n",
        "netflixData.drop_duplicates(inplace=True)\n",
        "\n",
        "# convert 'date_added' to datetime\n",
        "netflixData['date_added'] = pd.to_datetime(netflixData['date_added'])\n",
        "\n",
        "# fill missing values in 'country' with 'Unknown'\n",
        "netflixData['country'] = netflixData['country'].fillna('Unknown')\n"
      ]
    },
    {
      "cell_type": "code",
      "execution_count": 57,
      "metadata": {},
      "outputs": [
        {
          "name": "stdout",
          "output_type": "stream",
          "text": [
            "Count of Movies vs TV Shows:\n",
            "type\n",
            "Movie      6131\n",
            "TV Show    2676\n",
            "Name: count, dtype: int64\n",
            "\n",
            "Top 10 genres:\n",
            "listed_in\n",
            "Dramas, International Movies                        362\n",
            "Documentaries                                       359\n",
            "Stand-Up Comedy                                     334\n",
            "Comedies, Dramas, International Movies              274\n",
            "Dramas, Independent Movies, International Movies    252\n",
            "Kids' TV                                            220\n",
            "Children & Family Movies                            215\n",
            "Children & Family Movies, Comedies                  201\n",
            "Documentaries, International Movies                 186\n",
            "Dramas, International Movies, Romantic Movies       180\n",
            "Name: count, dtype: int64\n",
            "\n",
            "Top 10 countries with the most content:\n",
            "country\n",
            "United States     2818\n",
            "India              972\n",
            "Unknown            831\n",
            "United Kingdom     419\n",
            "Japan              245\n",
            "South Korea        199\n",
            "Canada             181\n",
            "Spain              145\n",
            "France             124\n",
            "Mexico             110\n",
            "Name: count, dtype: int64\n",
            "\n",
            "Content count by release year:\n",
            "release_year\n",
            "2018    1147\n",
            "2017    1032\n",
            "2019    1030\n",
            "2020     953\n",
            "2016     902\n",
            "        ... \n",
            "1959       1\n",
            "1925       1\n",
            "1961       1\n",
            "1947       1\n",
            "1966       1\n",
            "Name: count, Length: 74, dtype: int64\n"
          ]
        }
      ],
      "source": [
        "# count of movies vs tv shows\n",
        "print(\"Count of Movies vs TV Shows:\")\n",
        "print(netflixData['type'].value_counts())\n",
        "\n",
        "# identify the most common genres and countries producing content\n",
        "print(\"\\nTop 10 genres:\")\n",
        "print(netflixData['listed_in'].value_counts().head(10))\n",
        "\n",
        "print(\"\\nTop 10 countries with the most content:\")\n",
        "print(netflixData['country'].value_counts().head(10))\n",
        "\n",
        "# Count how many shows/movies were released each year\n",
        "print(\"\\nContent count by release year:\")\n",
        "print(netflixData['release_year'].value_counts())\n"
      ]
    },
    {
      "cell_type": "markdown",
      "metadata": {},
      "source": [
        "### **Insights and Interpretation**  \n",
        "Netflix has more movies(6131) than TV shows(2676), with most content coming from the United States. Popular genres include Dramas and International Movies, and the number of new releases has been increasing in recent years."
      ]
    }
  ],
  "metadata": {
    "colab": {
      "provenance": []
    },
    "kernelspec": {
      "display_name": ".venv",
      "language": "python",
      "name": "python3"
    },
    "language_info": {
      "codemirror_mode": {
        "name": "ipython",
        "version": 3
      },
      "file_extension": ".py",
      "mimetype": "text/x-python",
      "name": "python",
      "nbconvert_exporter": "python",
      "pygments_lexer": "ipython3",
      "version": "3.13.1"
    }
  },
  "nbformat": 4,
  "nbformat_minor": 0
}
