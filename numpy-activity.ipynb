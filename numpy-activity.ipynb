{
 "cells": [
  {
   "cell_type": "markdown",
   "metadata": {},
   "source": [
    "# Members: **Tabudlong and Misuarez**"
   ]
  },
  {
   "cell_type": "markdown",
   "metadata": {
    "id": "A4GF3lV6jm5x"
   },
   "source": [
    "### **Activity 1: NumPy Exercise**\n",
    "\n",
    "**Objective:**\n",
    "\n",
    "Practice NumPy's array manipulation, indexing, and mathematical functions by solving problems related to basic data analysis and matrix operations."
   ]
  },
  {
   "cell_type": "markdown",
   "metadata": {
    "id": "Pq3P9XLbjVU4"
   },
   "source": [
    "## **Part 1**"
   ]
  },
  {
   "cell_type": "markdown",
   "metadata": {
    "id": "VkOXGCuiLGR9"
   },
   "source": [
    "#### 1. Import the numpy package under the name `np`\n"
   ]
  },
  {
   "cell_type": "code",
   "execution_count": 5,
   "metadata": {
    "id": "DhbEnfx8O314"
   },
   "outputs": [],
   "source": [
    "import numpy as np"
   ]
  },
  {
   "cell_type": "markdown",
   "metadata": {
    "id": "ktNjFh4pO-5C"
   },
   "source": [
    "#### 2. Print the numpy version"
   ]
  },
  {
   "cell_type": "code",
   "execution_count": 16,
   "metadata": {
    "id": "7tZfwQhhPQoI"
   },
   "outputs": [
    {
     "name": "stdout",
     "output_type": "stream",
     "text": [
      "2.2.2\n"
     ]
    }
   ],
   "source": [
    "print(np.__version__)"
   ]
  },
  {
   "cell_type": "markdown",
   "metadata": {
    "id": "D4V99t3oQRAB"
   },
   "source": [
    "#### 3. Create a null array of size 5"
   ]
  },
  {
   "cell_type": "code",
   "execution_count": 17,
   "metadata": {
    "id": "XnL-QmA_QYa2"
   },
   "outputs": [
    {
     "name": "stdout",
     "output_type": "stream",
     "text": [
      "[0. 0. 0. 0. 0.]\n"
     ]
    }
   ],
   "source": [
    "arr = np.zeros(5)\n",
    "print(arr)"
   ]
  },
  {
   "cell_type": "markdown",
   "metadata": {
    "id": "x9tAEjPlQcnh"
   },
   "source": [
    "#### 4. Create a null array of size 15 but the seventh value which is 1"
   ]
  },
  {
   "cell_type": "code",
   "execution_count": 18,
   "metadata": {
    "id": "VgwfRV6OQlGk"
   },
   "outputs": [
    {
     "name": "stdout",
     "output_type": "stream",
     "text": [
      "[0. 0. 0. 0. 0. 0. 1. 0. 0. 0. 0. 0. 0. 0. 0.]\n"
     ]
    }
   ],
   "source": [
    "arr2 = np.zeros(15)\n",
    "arr2[6] = 1\n",
    "\n",
    "print(arr2)"
   ]
  },
  {
   "cell_type": "markdown",
   "metadata": {
    "id": "a5_Af-hYTi-X"
   },
   "source": [
    "#### 5. Create a 4x4 matrix with values ranging from 0 to 11"
   ]
  },
  {
   "cell_type": "code",
   "execution_count": 19,
   "metadata": {
    "id": "HSlLeK5YQ5Lo"
   },
   "outputs": [
    {
     "name": "stdout",
     "output_type": "stream",
     "text": [
      "[[ 0  1  2  3]\n",
      " [ 4  5  6  7]\n",
      " [ 8  9 10 11]\n",
      " [12 13 14 15]]\n"
     ]
    }
   ],
   "source": [
    "arr3 = np.array([[0,1,2,3],[4,5,6,7],[8,9,10,11],[12,13,14,15]])\n",
    "print(arr3)"
   ]
  },
  {
   "cell_type": "markdown",
   "metadata": {
    "id": "nLJvzwjfVXOL"
   },
   "source": [
    "#### 6. Find indices of non-zero elements from [1,2,4,0,4,0]"
   ]
  },
  {
   "cell_type": "code",
   "execution_count": 20,
   "metadata": {
    "id": "o8vyHuWfVbXu"
   },
   "outputs": [
    {
     "name": "stdout",
     "output_type": "stream",
     "text": [
      "(array([0, 1, 2, 4]),)\n"
     ]
    }
   ],
   "source": [
    "arr4 = np.array([1,2,4,0,4,0])\n",
    "x = np.where(arr4 != 0)\n",
    "\n",
    "print(x)"
   ]
  },
  {
   "cell_type": "markdown",
   "metadata": {
    "id": "z6OrgicLV6C-"
   },
   "source": [
    "#### 7. Create a 4x4x4 array with random values"
   ]
  },
  {
   "cell_type": "code",
   "execution_count": 21,
   "metadata": {
    "collapsed": true,
    "id": "MhcNEK55V1UF"
   },
   "outputs": [
    {
     "name": "stdout",
     "output_type": "stream",
     "text": [
      "[[[75 90 72 63]\n",
      "  [41 70  5 90]\n",
      "  [82 87 52 52]\n",
      "  [57 53 28 18]]\n",
      "\n",
      " [[80 99 69 79]\n",
      "  [85 31 48 62]\n",
      "  [18 99  6 21]\n",
      "  [20 53 66 57]]\n",
      "\n",
      " [[ 9 30 13 74]\n",
      "  [95 33 18 93]\n",
      "  [97 33 81 10]\n",
      "  [27 33 76 99]]\n",
      "\n",
      " [[82 11 35 59]\n",
      "  [78 15 25 84]\n",
      "  [78 26  4 37]\n",
      "  [70 30 15  8]]]\n"
     ]
    }
   ],
   "source": [
    "arr5 = np.random.randint(1, 100, size=(4, 4, 4))\n",
    "print(arr5)"
   ]
  },
  {
   "cell_type": "markdown",
   "metadata": {
    "id": "aLqeru_NWso3"
   },
   "source": [
    "#### 8. Create a 15x15 array with random assigned values and find the min and max values"
   ]
  },
  {
   "cell_type": "code",
   "execution_count": 22,
   "metadata": {
    "collapsed": true,
    "id": "eSpxGZ2GWqDo"
   },
   "outputs": [
    {
     "name": "stdout",
     "output_type": "stream",
     "text": [
      "[[14  4 48 96 29 84 12  3 55  8 65 78 36  8 64]\n",
      " [94 64 76 26 55 26 89  7 30 70 88 94 45 99 39]\n",
      " [74 56 81 44 73 57 92  5 57 13 65 96 99  3 67]\n",
      " [57 43 36 18 84 12 89 45 12 39 82 92 56 81 42]\n",
      " [ 5 28 56 97 23 10 99 77 40 43 39  8 88 81 81]\n",
      " [19  5 25 38  5 55 44 30 56 58 17 77 56 46 95]\n",
      " [50  1 13 24 10  7 39 79 74 85 89 47 72 64 80]\n",
      " [60 75 15 45 97  3 13 36 38 55 19 90 41 44 34]\n",
      " [ 6 35 85 46 46 15 32  6 79 96 19 51 62 61 37]\n",
      " [43 51 48 66  3 14 20 19 29  9 26 57  6 85 87]\n",
      " [84 99 20 13 37 73 59 96 15 53 24 99 74 51 79]\n",
      " [32 77 14 37 96 21 75 62 88 61 58 47 72 25 33]\n",
      " [17 36  9 48 11 49 45 97 54 35 87  2 60 46 30]\n",
      " [25 43 91 53 12 48  8 12 30 25 54 20 71 55 22]\n",
      " [90  7 46 32 40 56 55 67 45 91 24 12 44 71 73]]\n"
     ]
    }
   ],
   "source": [
    "arr6 = np.random.randint(1,100, size=(15,15))\n",
    "print(arr6)"
   ]
  },
  {
   "cell_type": "code",
   "execution_count": 23,
   "metadata": {
    "id": "cUFXQqkHW6qB"
   },
   "outputs": [
    {
     "name": "stdout",
     "output_type": "stream",
     "text": [
      "Min Value: 1\n",
      "Max Value: 99\n"
     ]
    }
   ],
   "source": [
    "arr6_min = np.min(arr6)\n",
    "arr6_max = np.max(arr6)\n",
    "\n",
    "print(f\"Min Value: {arr6_min}\")\n",
    "print(f\"Max Value: {arr6_max}\")"
   ]
  },
  {
   "cell_type": "markdown",
   "metadata": {
    "id": "jIAQPvclbEVr"
   },
   "source": [
    "#### 9. Create a random array of size 25 and find the mean value"
   ]
  },
  {
   "cell_type": "code",
   "execution_count": 14,
   "metadata": {
    "id": "q91Y8GMebPeY"
   },
   "outputs": [
    {
     "name": "stdout",
     "output_type": "stream",
     "text": [
      "[24 73 86  1 44 68  9 50 38 66 78 94 56  7 64 84 55 56 20 49 53 29 75 68\n",
      " 85]\n",
      "53.28\n"
     ]
    }
   ],
   "source": [
    "arr7 = np.random.randint(1,100, size=(25))\n",
    "mean = np.mean(arr7)\n",
    "\n",
    "print(arr7)\n",
    "print(mean)"
   ]
  },
  {
   "cell_type": "markdown",
   "metadata": {
    "id": "1z3JFRgAkmNP"
   },
   "source": [
    "#### 10.  Show your codes\n",
    "\n",
    "Given:\n",
    "\n",
    "array 1 = ([2, 4, 9])\\\n",
    "array 2 = ([1, 14, 6])\n",
    "\n",
    "  *Note: Recreate the arrays*"
   ]
  },
  {
   "cell_type": "code",
   "execution_count": 15,
   "metadata": {
    "id": "jiC8LUdknLPN"
   },
   "outputs": [
    {
     "name": "stdout",
     "output_type": "stream",
     "text": [
      "[2 4 9]\n",
      "[ 1 14  6]\n"
     ]
    }
   ],
   "source": [
    "arr8 = np.array([2,4,9])\n",
    "arr9 = np.array([1,14,6])\n",
    "\n",
    "print(arr8)\n",
    "print(arr9)\n",
    "\n"
   ]
  },
  {
   "cell_type": "markdown",
   "metadata": {
    "id": "QFPFjpSSmecQ"
   },
   "source": [
    "10.1 What is the result of *a + b*?"
   ]
  },
  {
   "cell_type": "code",
   "execution_count": 16,
   "metadata": {
    "id": "Yqcpj3ccm5La"
   },
   "outputs": [
    {
     "name": "stdout",
     "output_type": "stream",
     "text": [
      "[ 3 18 15]\n"
     ]
    }
   ],
   "source": [
    "print(arr8 + arr9)"
   ]
  },
  {
   "cell_type": "markdown",
   "metadata": {
    "id": "t0__U1Bum7k6"
   },
   "source": [
    "10.2 What is the result of *a - b*?"
   ]
  },
  {
   "cell_type": "code",
   "execution_count": 17,
   "metadata": {
    "id": "SmuAcAubnCNO"
   },
   "outputs": [
    {
     "name": "stdout",
     "output_type": "stream",
     "text": [
      "[  1 -10   3]\n"
     ]
    }
   ],
   "source": [
    "print(arr8 - arr9)"
   ]
  },
  {
   "cell_type": "markdown",
   "metadata": {
    "id": "5dbiR_Urm5fJ"
   },
   "source": [
    "10.3 What is the result of *a × b*?"
   ]
  },
  {
   "cell_type": "code",
   "execution_count": 18,
   "metadata": {
    "id": "Zpnb_vGqksSF"
   },
   "outputs": [
    {
     "name": "stdout",
     "output_type": "stream",
     "text": [
      "[ 2 56 54]\n"
     ]
    }
   ],
   "source": [
    "print(arr8 * arr9)"
   ]
  },
  {
   "cell_type": "markdown",
   "metadata": {
    "id": "jHTozQuZp2WM"
   },
   "source": [
    "10.4 What is the result of *a ÷ b*?"
   ]
  },
  {
   "cell_type": "code",
   "execution_count": 19,
   "metadata": {
    "id": "9Jx0GzTIqArP"
   },
   "outputs": [
    {
     "name": "stdout",
     "output_type": "stream",
     "text": [
      "[2.         0.28571429 1.5       ]\n"
     ]
    }
   ],
   "source": [
    "print(arr8 / arr9)"
   ]
  },
  {
   "cell_type": "markdown",
   "metadata": {
    "id": "I3FhrIORjZsA"
   },
   "source": [
    "## **Part 2**"
   ]
  },
  {
   "cell_type": "markdown",
   "metadata": {
    "id": "JDa9MTb2wXPi"
   },
   "source": [
    "##### NumPy Array Indexing"
   ]
  },
  {
   "cell_type": "markdown",
   "metadata": {
    "id": "M4rwQgDqrLoo"
   },
   "source": [
    "\n",
    "Given the following matrix:\n",
    "\n",
    "        [[10, 20, 30],\n",
    "        [40, 50, 60],\n",
    "        [70, 80, 90]]\n",
    "\n",
    " 1. Recreate the matrix"
   ]
  },
  {
   "cell_type": "code",
   "execution_count": 21,
   "metadata": {
    "id": "Ra4n8YBQr2RZ"
   },
   "outputs": [],
   "source": [
    "arr10 = np.array([[10,20,30],[40,50,60],[70,80,90]])"
   ]
  },
  {
   "cell_type": "markdown",
   "metadata": {
    "id": "br-ZYkK3uo24"
   },
   "source": [
    "1. Write code to extract the element 50."
   ]
  },
  {
   "cell_type": "code",
   "execution_count": 22,
   "metadata": {
    "id": "kI7jzTiYrTep"
   },
   "outputs": [
    {
     "name": "stdout",
     "output_type": "stream",
     "text": [
      "50\n"
     ]
    }
   ],
   "source": [
    "print(arr10[1,1])"
   ]
  },
  {
   "cell_type": "markdown",
   "metadata": {
    "id": "H1OsD655sEX6"
   },
   "source": [
    "2. **Extract a Row**\\\n",
    "\\\n",
    "Using the same array arr, extract the second row as a separate NumPy array."
   ]
  },
  {
   "cell_type": "code",
   "execution_count": 23,
   "metadata": {
    "id": "jf-K5No5sRob"
   },
   "outputs": [
    {
     "name": "stdout",
     "output_type": "stream",
     "text": [
      "[40 50 60]\n"
     ]
    }
   ],
   "source": [
    "arr11 = arr10[1]\n",
    "print(arr11)"
   ]
  },
  {
   "cell_type": "markdown",
   "metadata": {
    "id": "qk1-NvWjsVC3"
   },
   "source": [
    "3.  **Extract a Column**\\\n",
    "\\\n",
    "Using arr, extract the third column as a separate NumPy array."
   ]
  },
  {
   "cell_type": "code",
   "execution_count": 24,
   "metadata": {
    "id": "d1s1c5q9sgID"
   },
   "outputs": [
    {
     "name": "stdout",
     "output_type": "stream",
     "text": [
      "[30 60 90]\n"
     ]
    }
   ],
   "source": [
    "arr12 = arr10[:,2]\n",
    "print(arr12)"
   ]
  },
  {
   "cell_type": "markdown",
   "metadata": {
    "id": "DIe9pf8nskUZ"
   },
   "source": [
    "4. **Extract a Submatrix**\\\n",
    "\\\n",
    "Extract the following 2×2 submatrix from arr:\\\n",
    "\n",
    "  [[50 60]\\\n",
    " [80 90]]"
   ]
  },
  {
   "cell_type": "code",
   "execution_count": 25,
   "metadata": {
    "id": "37dC5sA3ssZV"
   },
   "outputs": [
    {
     "name": "stdout",
     "output_type": "stream",
     "text": [
      "[[50 60]\n",
      " [80 90]]\n"
     ]
    }
   ],
   "source": [
    "arr13 = arr10[1:3,1:3]\n",
    "print(arr13)"
   ]
  },
  {
   "cell_type": "markdown",
   "metadata": {
    "id": "ABs-32sKwOcg"
   },
   "source": [
    "##### NumPy Array Slicing"
   ]
  },
  {
   "cell_type": "markdown",
   "metadata": {
    "id": "T7kcCxr9uGAO"
   },
   "source": [
    "Given the following matrix:\n",
    "\n",
    "                [ 1,  2,  3,  4],\n",
    "                [ 5,  6,  7,  8],\n",
    "                [ 9, 10, 11, 12]]\n",
    "\n",
    "1. Recreate the matrix"
   ]
  },
  {
   "cell_type": "code",
   "execution_count": 26,
   "metadata": {
    "id": "CvzBw2FpwasA"
   },
   "outputs": [],
   "source": [
    "arr14 = np.array([[1,2,3,4],[5,6,7,8],[9,10,11,12]])"
   ]
  },
  {
   "cell_type": "markdown",
   "metadata": {
    "id": "YaaIsRTVwlof"
   },
   "source": [
    "2. Write code to extract the following 2×2 subarray:\n",
    "\n",
    "        [[ 6  7]\n",
    "        [10 11]]"
   ]
  },
  {
   "cell_type": "code",
   "execution_count": 27,
   "metadata": {
    "id": "PpyFr5wYwuLN"
   },
   "outputs": [
    {
     "name": "stdout",
     "output_type": "stream",
     "text": [
      "[[ 6  7]\n",
      " [10 11]]\n"
     ]
    }
   ],
   "source": [
    "arr15 = arr14[1:3,1:3]\n",
    "print(arr15)"
   ]
  },
  {
   "cell_type": "markdown",
   "metadata": {
    "id": "poinisgbw02m"
   },
   "source": [
    "3. Using the same matrix, write code to extract every other element from the first row (expected output: [1, 3])."
   ]
  },
  {
   "cell_type": "code",
   "execution_count": 28,
   "metadata": {
    "id": "9UyP9S3Ww-wf"
   },
   "outputs": [
    {
     "name": "stdout",
     "output_type": "stream",
     "text": [
      "[1 3]\n"
     ]
    }
   ],
   "source": [
    "arr16 = arr14[0, ::2]\n",
    "print(arr16)"
   ]
  },
  {
   "cell_type": "markdown",
   "metadata": {
    "id": "0it7IxPqxTq3"
   },
   "source": [
    "4. Write code to reverse the order of rows in the matrix"
   ]
  },
  {
   "cell_type": "code",
   "execution_count": 29,
   "metadata": {
    "id": "-tqPKhrmxWP7"
   },
   "outputs": [
    {
     "name": "stdout",
     "output_type": "stream",
     "text": [
      "[[ 9 10 11 12]\n",
      " [ 5  6  7  8]\n",
      " [ 1  2  3  4]]\n"
     ]
    }
   ],
   "source": [
    "reversed_rows = arr14[::-1, :]\n",
    "print(reversed_rows)"
   ]
  },
  {
   "cell_type": "markdown",
   "metadata": {
    "id": "C8EWGps7xfYl"
   },
   "source": [
    "5. Write code to extract the last two columns of the matrix."
   ]
  },
  {
   "cell_type": "code",
   "execution_count": 30,
   "metadata": {
    "id": "F7sJw1N1xiKC"
   },
   "outputs": [
    {
     "name": "stdout",
     "output_type": "stream",
     "text": [
      "[[ 3  4]\n",
      " [ 7  8]\n",
      " [11 12]]\n"
     ]
    }
   ],
   "source": [
    "last_two_columns = arr14[:, -2:]\n",
    "print(last_two_columns)"
   ]
  },
  {
   "cell_type": "markdown",
   "metadata": {
    "id": "_8sVIp1q2MYw"
   },
   "source": [
    "##### NumPy Array Joins\n",
    "\n",
    "1. Given the following arrays:\n",
    "\n",
    "        arr1 = ([11, 7, 33])\\\n",
    "        arr2 = ([44, 5, 18])\n",
    "\n",
    "1.1 Recreate the arrays"
   ]
  },
  {
   "cell_type": "code",
   "execution_count": 31,
   "metadata": {
    "id": "-1H2IYDs2hMx"
   },
   "outputs": [],
   "source": [
    "arr20 = np.array([11,7,33])\n",
    "arr21 = np.array([44,5,18])"
   ]
  },
  {
   "cell_type": "markdown",
   "metadata": {
    "id": "jJ-OxwEZ2ysr"
   },
   "source": [
    "2. Write code to join arr1 and arr2 into a single 1D array."
   ]
  },
  {
   "cell_type": "code",
   "execution_count": 32,
   "metadata": {
    "id": "fyKL42Yv2ewQ"
   },
   "outputs": [
    {
     "name": "stdout",
     "output_type": "stream",
     "text": [
      "[11  7 33 44  5 18]\n"
     ]
    }
   ],
   "source": [
    "joined_array = np.concatenate((arr20, arr21))\n",
    "print(joined_array)"
   ]
  },
  {
   "cell_type": "markdown",
   "metadata": {
    "id": "1qiYH-0v25Z2"
   },
   "source": [
    "3. Using arr1 and arr2 from question 1, write code to stack them vertically into a 2D array."
   ]
  },
  {
   "cell_type": "code",
   "execution_count": 33,
   "metadata": {
    "id": "MgR89wkS2_Nw"
   },
   "outputs": [
    {
     "name": "stdout",
     "output_type": "stream",
     "text": [
      "[[11  7 33]\n",
      " [44  5 18]]\n"
     ]
    }
   ],
   "source": [
    "stacked_array = np.vstack((arr20, arr21))\n",
    "print(stacked_array)"
   ]
  },
  {
   "cell_type": "markdown",
   "metadata": {
    "id": "mLanHC623JpJ"
   },
   "source": [
    "4. Given the 2D arrays:\n",
    "\n",
    "        arr1 = ([[1, 2],\n",
    "               [3, 4]])\n",
    "\n",
    "        arr2 = ([[5, 6],\n",
    "               [7, 8]])\n",
    "\n",
    "4.1 Recreate the arrays"
   ]
  },
  {
   "cell_type": "code",
   "execution_count": 34,
   "metadata": {
    "id": "FDGnOATJ3JE4"
   },
   "outputs": [],
   "source": [
    "\n",
    "arr23 = np.array([[1,2],[3,4]])\n",
    "arr24 = np.array([[5,6], [7,8]])"
   ]
  },
  {
   "cell_type": "markdown",
   "metadata": {
    "id": "RyJFIfpo3wiA"
   },
   "source": [
    "5. Write code to join them horizontally (column-wise)."
   ]
  },
  {
   "cell_type": "code",
   "execution_count": 35,
   "metadata": {
    "id": "0eHEY4N63zgT"
   },
   "outputs": [
    {
     "name": "stdout",
     "output_type": "stream",
     "text": [
      "[[1 2 5 6]\n",
      " [3 4 7 8]]\n"
     ]
    }
   ],
   "source": [
    "stacked_array2 = np.hstack((arr23, arr24))\n",
    "print(stacked_array2)"
   ]
  },
  {
   "cell_type": "markdown",
   "metadata": {
    "id": "encqt9P74ZSv"
   },
   "source": [
    "6. Using arr1 and arr2 from question 4, write code to join them vertically (row-wise).\n"
   ]
  },
  {
   "cell_type": "code",
   "execution_count": 36,
   "metadata": {
    "id": "o-UjS1Kn4rS7"
   },
   "outputs": [
    {
     "name": "stdout",
     "output_type": "stream",
     "text": [
      "[[1 2]\n",
      " [3 4]\n",
      " [5 6]\n",
      " [7 8]]\n"
     ]
    }
   ],
   "source": [
    "stacked_array3 = np.vstack((arr23, arr24))\n",
    "print(stacked_array3)"
   ]
  },
  {
   "cell_type": "markdown",
   "metadata": {
    "id": "2l2umcfvjlXq"
   },
   "source": [
    "## **Part 3**"
   ]
  },
  {
   "cell_type": "markdown",
   "metadata": {
    "id": "-rs5StZQlvYg"
   },
   "source": [
    "### Task 1: Array Creation"
   ]
  },
  {
   "cell_type": "markdown",
   "metadata": {
    "id": "PKyTiCLulztg"
   },
   "source": [
    "Create the following arrays:\n",
    "\n",
    "- A 1D array of integers from 10 to 28, with a step of 2.\n",
    "- A 2D array with shape (4, 4) containing random integers between 1 and 50.\n",
    "- A 3D array of shape (2, 3, 4) filled with ones.\n",
    "\n"
   ]
  },
  {
   "cell_type": "code",
   "execution_count": null,
   "metadata": {
    "collapsed": true,
    "id": "GRWUhpV46cR4"
   },
   "outputs": [
    {
     "name": "stdout",
     "output_type": "stream",
     "text": [
      "1D Array:\n",
      " [10 12 14 16 18 20 22 24 26 28] \n",
      "\n",
      "2D Array:\n",
      " [[46 32 33 13]\n",
      " [ 3 13  9 28]\n",
      " [35 19  7 16]\n",
      " [ 3  7  5 13]] \n",
      "\n",
      "3D Array:\n",
      " [[[1 1 1 1]\n",
      "  [1 1 1 1]\n",
      "  [1 1 1 1]]\n",
      "\n",
      " [[1 1 1 1]\n",
      "  [1 1 1 1]\n",
      "  [1 1 1 1]]] \n",
      "\n"
     ]
    }
   ],
   "source": [
    "arr30 = np.arange(10, 30, 2)\n",
    "arr31 = np.random.randint(1, 50, size=(4, 4))\n",
    "arr32 = np.random.randint(1,2, size=(2,3,4))\n",
    "\n",
    "print(f\"1D Array:\\n {arr30} \\n\")\n",
    "print(f\"2D Array:\\n {arr31} \\n\")\n",
    "print(f\"3D Array:\\n {arr32} \\n\")"
   ]
  },
  {
   "cell_type": "markdown",
   "metadata": {
    "id": "yZPELZSx7ggA"
   },
   "source": [
    "### Task 2: Array Transformations\n",
    "Perform the following operations:\n",
    "- Reshape the 1D array to a 2D array with 2 rows.\n",
    "- Extract the last two rows of the 2D array (From Task 1)\n",
    "- Replace all even numbers in the 2D array with -1. (From Task 1)"
   ]
  },
  {
   "cell_type": "code",
   "execution_count": 30,
   "metadata": {
    "id": "5EJrW4nw7sIE"
   },
   "outputs": [
    {
     "name": "stdout",
     "output_type": "stream",
     "text": [
      "1. \n",
      " [[10 12 14 16 18]\n",
      " [20 22 24 26 28]] \n",
      "\n",
      "2. \n",
      " [[35 19  7 16]\n",
      " [ 3  7  5 13]] \n",
      "\n",
      "3. \n",
      " [[[1 1 1 1]\n",
      "  [1 1 1 1]\n",
      "  [1 1 1 1]]\n",
      "\n",
      " [[1 1 1 1]\n",
      "  [1 1 1 1]\n",
      "  [1 1 1 1]]] \n",
      "\n"
     ]
    }
   ],
   "source": [
    "newarr = arr30.reshape(2,-1)\n",
    "last_two_rows = arr31[-2:, :]\n",
    "arr32[arr32%2 == 0] = -1\n",
    "\n",
    "print(f\"1. \\n {newarr} \\n\")\n",
    "print(f\"2. \\n {last_two_rows} \\n\")\n",
    "print(f\"3. \\n {arr32} \\n\")"
   ]
  },
  {
   "cell_type": "markdown",
   "metadata": {
    "id": "ZkDoNNBjn7nP"
   },
   "source": [
    "### Task 3: Statistical Operations"
   ]
  },
  {
   "cell_type": "markdown",
   "metadata": {
    "id": "87sRNKp0n7nP"
   },
   "source": [
    "Using the 2D array from **Task 1**, compute the following:\n",
    "\n",
    "- The mean, median, and standard deviation of the array. (From Task 1)\n",
    "- The sum of all elements along each row. (From Task 1)\n",
    "- The maximum value and its index in the entire array. (From Task 1)\n"
   ]
  },
  {
   "cell_type": "code",
   "execution_count": 13,
   "metadata": {
    "id": "TEoMfRV68VlZ"
   },
   "outputs": [
    {
     "name": "stdout",
     "output_type": "stream",
     "text": [
      "Mean: 30.0625\n",
      "Median: 35.0\n",
      "Standard Deviation: 14.575101843554988 \n",
      "\n",
      "Row Sums: [137 127 102 115] \n",
      "\n",
      "Maximum Value: 48\n",
      "(array([1, 2]), array([3, 1]))\n"
     ]
    }
   ],
   "source": [
    "mean_value = np.mean(arr31)\n",
    "median_value = np.median(arr31)\n",
    "std_deviation = np.std(arr31)\n",
    "\n",
    "print(\"Mean:\", mean_value)\n",
    "print(\"Median:\", median_value)\n",
    "print(\"Standard Deviation:\", std_deviation, \"\\n\")\n",
    "\n",
    "row_sums = np.sum(arr31, axis=1)\n",
    "print(\"Row Sums:\", row_sums, \"\\n\")\n",
    "\n",
    "max_value = np.max(arr31)\n",
    "print(\"Maximum Value:\", max_value)\n",
    "\n",
    "index = np.where(arr31 == max_value)\n",
    "print(index)\n"
   ]
  },
  {
   "cell_type": "markdown",
   "metadata": {
    "id": "T_X0kP3I9eWi"
   },
   "source": [
    "###  Task 4: Advanced Analysis on Large Arrays"
   ]
  },
  {
   "cell_type": "markdown",
   "metadata": {
    "id": "B6uTdro89kE7"
   },
   "source": [
    "- Create a (10, 10) array containing random floating-point numbers between 0 and 1.\n",
    "- Find the minimum value along each column.\n",
    "- Find the indices of the top 5 largest values in the entire array."
   ]
  },
  {
   "cell_type": "code",
   "execution_count": 14,
   "metadata": {
    "id": "UwJw1MIn9ovK"
   },
   "outputs": [
    {
     "name": "stdout",
     "output_type": "stream",
     "text": [
      "10x10 Array:\n",
      " [[0.22969671 0.19367196 0.35442009 0.38413945 0.92799032 0.21992083\n",
      "  0.46683429 0.57688811 0.03603225 0.91090646]\n",
      " [0.40880434 0.49437419 0.52668202 0.31801374 0.56521302 0.14401508\n",
      "  0.55826883 0.81731405 0.64360883 0.38518031]\n",
      " [0.05159323 0.09380064 0.18351821 0.90682605 0.64787035 0.17520352\n",
      "  0.79476483 0.81130386 0.93407798 0.54925124]\n",
      " [0.58018336 0.55930964 0.60292422 0.779112   0.10633864 0.59334573\n",
      "  0.86827343 0.01174989 0.95994006 0.37260972]\n",
      " [0.70663926 0.85813202 0.19680585 0.02163113 0.9398347  0.30744922\n",
      "  0.64585887 0.31133075 0.77868254 0.71149986]\n",
      " [0.42936194 0.76382409 0.90770558 0.60667041 0.86406837 0.64841853\n",
      "  0.35625241 0.62601121 0.57026744 0.18659385]\n",
      " [0.39279628 0.4673031  0.66429282 0.46096963 0.31131753 0.43017026\n",
      "  0.95223286 0.61726603 0.3760157  0.20569129]\n",
      " [0.62080551 0.37917878 0.10688115 0.21816892 0.61901832 0.33402827\n",
      "  0.60869724 0.52077769 0.05099823 0.13435335]\n",
      " [0.1144658  0.28646953 0.52483586 0.59274867 0.31333674 0.15658969\n",
      "  0.25420475 0.2841734  0.63433873 0.58229096]\n",
      " [0.93594605 0.68964456 0.1119122  0.29164567 0.30426531 0.79748802\n",
      "  0.49828893 0.27444538 0.9778331  0.41640085]]\n",
      "\n",
      " Min per Column: [0.05159323 0.09380064 0.10688115 0.02163113 0.10633864 0.14401508\n",
      " 0.25420475 0.01174989 0.03603225 0.13435335]\n",
      "\n",
      " Top 5 Indices: [0.93594605 0.9398347  0.95223286 0.95994006 0.9778331 ]\n"
     ]
    }
   ],
   "source": [
    "large_array = np.random.random((10, 10))\n",
    "min_per_column = np.min(large_array, axis=0)\n",
    "top_5_values = np.sort(large_array.flatten())[-5:]\n",
    "\n",
    "print(\"10x10 Array:\\n\", large_array)\n",
    "print(\"\\n Min per Column:\", min_per_column)\n",
    "print(\"\\n Top 5 Indices:\", top_5_values)\n"
   ]
  }
 ],
 "metadata": {
  "colab": {
   "collapsed_sections": [
    "JDa9MTb2wXPi",
    "ABs-32sKwOcg"
   ],
   "provenance": []
  },
  "kernelspec": {
   "display_name": "Python 3",
   "language": "python",
   "name": "python3"
  },
  "language_info": {
   "codemirror_mode": {
    "name": "ipython",
    "version": 3
   },
   "file_extension": ".py",
   "mimetype": "text/x-python",
   "name": "python",
   "nbconvert_exporter": "python",
   "pygments_lexer": "ipython3",
   "version": "3.13.1"
  }
 },
 "nbformat": 4,
 "nbformat_minor": 0
}
